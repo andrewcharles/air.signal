{
  "cells": [
    {
      "cell_type": "code",
      "execution_count": null,
      "metadata": {
        "id": "fSxob73CxnsT"
      },
      "outputs": [],
      "source": [
        "# A notebook for checking the latest sentinel images for a defined area.\n",
        "# First, need a means of storing previous imagery."
      ]
    },
    {
      "cell_type": "code",
      "source": [
        "# These lines require user intervention\n",
        "from google.colab import auth\n",
        "auth.authenticate_user()\n",
        "from google.colab import drive\n",
        "drive.mount('/content/drive')"
      ],
      "metadata": {
        "id": "-rtVuu-uxtZh",
        "outputId": "7e5f2fae-cb37-4171-869f-0285a0272389",
        "colab": {
          "base_uri": "https://localhost:8080/"
        }
      },
      "execution_count": 101,
      "outputs": [
        {
          "output_type": "stream",
          "name": "stdout",
          "text": [
            "Drive already mounted at /content/drive; to attempt to forcibly remount, call drive.mount(\"/content/drive\", force_remount=True).\n"
          ]
        }
      ]
    },
    {
      "cell_type": "code",
      "source": [
        "from google.oauth2 import service_account\n",
        "from google.cloud import storage\n",
        "import ee\n",
        "\n",
        "PROJECT_ID = \"earth-engine-workflow\"\n",
        "BUCKET_NAME = \"airsignal2023\"\n",
        "REGION = \"us-central1\"\n",
        "USER_NAME = 'charlesan'\n",
        "\n",
        "# Skip earth engine login clickety click\n",
        "#credentials = service_account.Credentials.from_service_account_file('/content/drive/MyDrive/earth-engine-workflow-013a80bf4f5b.json')\n",
        "\n",
        "\n",
        "service_account = 'harvester@earth-engine-workflow.iam.gserviceaccount.com'\n",
        "credentials = ee.ServiceAccountCredentials(service_account, '/content/drive/MyDrive/earth-engine-workflow-013a80bf4f5b.json')\n",
        "\n",
        "ee.Initialize(credentials)\n",
        "\n",
        "# Check for bucket and create if not present\n",
        "client = storage.Client(credentials=credentials)\n",
        "client\n",
        "OUTPUT_BUCKET = 'airsignal2023'\n",
        "\n",
        "def create_bucket(bucket_name):\n",
        "    storage_client = storage.Client()    \n",
        "    bucket = storage_client.create_bucket(bucket_name)\n",
        "    print('Bucket {} created'.format(bucket.name))\n",
        "\n",
        "def bucket_exists(bucket_name):\n",
        "    storage_client = storage.Client()\n",
        "    bucket = storage_client.bucket(bucket_name)\n",
        "    try:\n",
        "        bucket.reload()\n",
        "        return True\n",
        "    except Exception as e:\n",
        "        print(e)\n",
        "        return False\n",
        "\n",
        "# Replace <BUCKET_NAME> with the name of your bucket\n",
        "if bucket_exists(OUTPUT_BUCKET):\n",
        "  print('Bucket exists')\n",
        "else:\n",
        "  print('Bucket does not exist')\n",
        "  create_bucket(OUTPUT_BUCKET)\n"
      ],
      "metadata": {
        "id": "t8kex7QLx6vy",
        "colab": {
          "base_uri": "https://localhost:8080/"
        },
        "outputId": "45506d32-44f1-4d94-ee1a-8789e764ea66"
      },
      "execution_count": 104,
      "outputs": [
        {
          "output_type": "stream",
          "name": "stdout",
          "text": [
            "Bucket exists\n"
          ]
        }
      ]
    },
    {
      "cell_type": "code",
      "source": [
        "#!pip install earthengine-api"
      ],
      "metadata": {
        "id": "tIlG4QQaoKYE"
      },
      "execution_count": null,
      "outputs": []
    },
    {
      "cell_type": "code",
      "execution_count": 105,
      "metadata": {
        "id": "UveTlp9R3VZk"
      },
      "outputs": [],
      "source": [
        "# Anglesea Heath\n",
        "xmin = 144.2\n",
        "xmax = 144.\n",
        "ymin = -38.3\n",
        "ymax = -38.5\n",
        "\n",
        "ROI_POLY = ee.Geometry.Polygon([[[xmin, ymax],\n",
        "                          [xmin, ymin],\n",
        "                          [xmax, ymin],\n",
        "                          [xmax, ymax]]])\n",
        "lat,lon = (ymin+ymax)/2,(xmin+xmax)/2"
      ]
    },
    {
      "cell_type": "code",
      "source": [
        "# Define a first set of dates\n",
        "START_DATE = \"2023-01-01\"\n",
        "END_DATE =  \"2023-03-01\""
      ],
      "metadata": {
        "id": "v6ijSbQJEK-W"
      },
      "execution_count": 106,
      "outputs": []
    },
    {
      "cell_type": "code",
      "source": [
        "import pandas as pd\n",
        "r = pd.date_range(START_DATE,END_DATE)\n",
        "r[0].strftime(\"%Y-%m-%d\")\n",
        "pd.to_datetime(r[0])"
      ],
      "metadata": {
        "id": "s6Cxvd1VRVPg",
        "outputId": "9821de1e-d462-4639-966b-3d4d01c185f9",
        "colab": {
          "base_uri": "https://localhost:8080/"
        }
      },
      "execution_count": 127,
      "outputs": [
        {
          "output_type": "execute_result",
          "data": {
            "text/plain": [
              "Timestamp('2023-01-01 00:00:00', freq='D')"
            ]
          },
          "metadata": {},
          "execution_count": 127
        }
      ]
    },
    {
      "cell_type": "code",
      "source": [
        "# SENTINEL FUNCTIONS\n",
        "# Use QA for mask then discard\n",
        "#https://github.com/davemlz/ee-catalog-scale-offset-params/blob/main/list/ee-catalog-scale-offset-parameters.json\n",
        "#bands_10m =\n",
        "#bands_60m = \n",
        "#SCALE_BANDS =\n",
        "BANDS = ['B2','B3','B4','B8','QA60']\n",
        "CLOUD_LIMIT = 50\n",
        "def se2mask(image):\n",
        "    quality_band = image.select('QA60')\n",
        "    # using the bit mask for clouds and cirrus clouds respectively\n",
        "    cloudmask = 1 << 10\n",
        "    cirrusmask = 1 << 11    \n",
        "    # we only want clear skies\n",
        "    mask = quality_band.bitwiseAnd(cloudmask).eq(0) and (quality_band.bitwiseAnd(cirrusmask).eq(0)) \n",
        "    # we'll divide by 10000 to make interpreting the reflectance values easier\n",
        "    return image.updateMask(mask)#.divide(10000)\n",
        "# This scale functions wrecks the dates\n",
        "def scale(image):\n",
        "  bands = ['B2','B3','B4','B8']\n",
        "  image = image.select(bands).multiply(0.0001)\n",
        "  #image = image.addBands(im2.select(bands))\n",
        "  return image"
      ],
      "metadata": {
        "id": "LoTmi34EtlZx"
      },
      "execution_count": 107,
      "outputs": []
    },
    {
      "cell_type": "code",
      "source": [
        "imcol = ee.ImageCollection('COPERNICUS/S2_SR_HARMONIZED').filterBounds(ROI_POLY).filterDate(\n",
        "    START_DATE, END_DATE).filter(ee.Filter.lt(\"CLOUDY_PIXEL_PERCENTAGE\",CLOUD_LIMIT))\n",
        "#.select(BANDS)\n",
        "# Other functions we can map over the collection. Some have side effects.\n",
        "#.map(scale)\n",
        "#.map(se2mask)\n",
        "# map(lambda img: img.divide(10000))"
      ],
      "metadata": {
        "id": "n3M55jHxJRE9"
      },
      "execution_count": 108,
      "outputs": []
    },
    {
      "cell_type": "code",
      "source": [
        "imlist = imcol.toList(imcol.size())\n",
        "unique_ids = imlist.map(lambda im: ee.Image(im).id()  )\n",
        "# Tell EE to compute this operation\n",
        "idslist = ee.List.getInfo(unique_ids)\n",
        "print(\"Image IDs\")\n",
        "print(idslist)"
      ],
      "metadata": {
        "id": "eq9yhqCtxv9L",
        "colab": {
          "base_uri": "https://localhost:8080/"
        },
        "outputId": "f83977f2-1004-4d52-b8f3-e6fe6de83b22"
      },
      "execution_count": 109,
      "outputs": [
        {
          "output_type": "stream",
          "name": "stdout",
          "text": [
            "Image IDs\n",
            "['20230105T002049_20230105T002432_T54HYC', '20230105T002049_20230105T002432_T55HBT', '20230110T002051_20230110T002415_T54HYC', '20230110T002051_20230110T002415_T55HBT', '20230115T002049_20230115T002358_T54HYC', '20230115T002049_20230115T002358_T55HBT', '20230125T002049_20230125T002320_T54HYC', '20230125T002049_20230125T002320_T55HBT', '20230209T002051_20230209T002314_T54HYC', '20230209T002051_20230209T002314_T55HBT', '20230214T002059_20230214T002314_T54HYC', '20230214T002059_20230214T002314_T55HBT', '20230219T002051_20230219T002312_T54HYC', '20230219T002051_20230219T002312_T55HBT']\n"
          ]
        }
      ]
    },
    {
      "cell_type": "code",
      "source": [
        "# Retrieve the list of previously processed files\n",
        "# Can only use tmp locally\n",
        "import json\n",
        "blobs = client.list_blobs(OUTPUT_BUCKET)\n",
        "local_folder = \"/tmp/\"\n",
        "filename = \"idlist.json\"\n",
        "processed_ids = []\n",
        "for blob in blobs:\n",
        "  print(blob)\n",
        "  if(blob.name == filename):\n",
        "    print(\"Blobs: {}\".format(blob.name))\n",
        "    destination_uri = \"{}/{}\".format(local_folder, filename) \n",
        "    blob.download_to_filename(destination_uri)\n",
        "    with open(destination_uri, 'r') as f:\n",
        "      s = json.load(f)\n",
        "      print(s)\n",
        "      processed_ids = s"
      ],
      "metadata": {
        "id": "3g66lK4tcEvQ"
      },
      "execution_count": 110,
      "outputs": []
    },
    {
      "cell_type": "code",
      "source": [
        "processed_ids"
      ],
      "metadata": {
        "colab": {
          "base_uri": "https://localhost:8080/"
        },
        "id": "mda_qf2M5PVd",
        "outputId": "b92216b8-0d0b-4734-bf7b-377458db5ee3"
      },
      "execution_count": 111,
      "outputs": [
        {
          "output_type": "execute_result",
          "data": {
            "text/plain": [
              "[]"
            ]
          },
          "metadata": {},
          "execution_count": 111
        }
      ]
    },
    {
      "cell_type": "code",
      "source": [
        "# Compare s and idslist\n",
        "newids = list(set(idslist).difference(set(processed_ids)))"
      ],
      "metadata": {
        "id": "pX5atMRN36x9"
      },
      "execution_count": 112,
      "outputs": []
    },
    {
      "cell_type": "code",
      "source": [
        "newids"
      ],
      "metadata": {
        "colab": {
          "base_uri": "https://localhost:8080/"
        },
        "id": "oZCUP2YoAQnX",
        "outputId": "dc7e3751-f0c9-4587-9a89-dbcbce3e60c1"
      },
      "execution_count": 113,
      "outputs": [
        {
          "output_type": "execute_result",
          "data": {
            "text/plain": [
              "['20230105T002049_20230105T002432_T54HYC',\n",
              " '20230110T002051_20230110T002415_T55HBT',\n",
              " '20230125T002049_20230125T002320_T54HYC',\n",
              " '20230115T002049_20230115T002358_T55HBT',\n",
              " '20230214T002059_20230214T002314_T54HYC',\n",
              " '20230219T002051_20230219T002312_T54HYC',\n",
              " '20230110T002051_20230110T002415_T54HYC',\n",
              " '20230125T002049_20230125T002320_T55HBT',\n",
              " '20230214T002059_20230214T002314_T55HBT',\n",
              " '20230105T002049_20230105T002432_T55HBT',\n",
              " '20230209T002051_20230209T002314_T55HBT',\n",
              " '20230219T002051_20230219T002312_T55HBT',\n",
              " '20230115T002049_20230115T002358_T54HYC',\n",
              " '20230209T002051_20230209T002314_T54HYC']"
            ]
          },
          "metadata": {},
          "execution_count": 113
        }
      ]
    },
    {
      "cell_type": "code",
      "source": [
        "# Filter out already processed\n",
        "newid_list = ee.List(newids)\n",
        "id_filter = ee.Filter.inList('system:index',newid_list)\n",
        "imcol_new = imcol.filter(id_filter).map(se2mask).select(BANDS)#.map(scale)"
      ],
      "metadata": {
        "id": "CKS1TtvL96it"
      },
      "execution_count": 114,
      "outputs": []
    },
    {
      "cell_type": "code",
      "source": [
        "#ee.Number.getInfo(imcol_new.size())\n",
        "imlist = imcol_new.toList(imcol_new.size())\n",
        "unique_ids = imlist.map(lambda im: ee.Image(im).id()  )\n",
        "idslist = ee.List.getInfo(unique_ids)\n",
        "print(\"Image IDs\")\n",
        "print(idslist)"
      ],
      "metadata": {
        "colab": {
          "base_uri": "https://localhost:8080/"
        },
        "id": "A1GapA0p_6-e",
        "outputId": "c3253483-ad43-4e89-e894-6097ebd61d37"
      },
      "execution_count": 115,
      "outputs": [
        {
          "output_type": "stream",
          "name": "stdout",
          "text": [
            "Image IDs\n",
            "['20230105T002049_20230105T002432_T54HYC', '20230105T002049_20230105T002432_T55HBT', '20230110T002051_20230110T002415_T54HYC', '20230110T002051_20230110T002415_T55HBT', '20230115T002049_20230115T002358_T54HYC', '20230115T002049_20230115T002358_T55HBT', '20230125T002049_20230125T002320_T54HYC', '20230125T002049_20230125T002320_T55HBT', '20230209T002051_20230209T002314_T54HYC', '20230209T002051_20230209T002314_T55HBT', '20230214T002059_20230214T002314_T54HYC', '20230214T002059_20230214T002314_T55HBT', '20230219T002051_20230219T002312_T54HYC', '20230219T002051_20230219T002312_T55HBT']\n"
          ]
        }
      ]
    },
    {
      "cell_type": "code",
      "source": [
        "dates = imlist.map(lambda im: ee.Image(im).date().format(\"YYYY-MM-dd\"))\n",
        "unique_dates = dates.distinct()\n",
        "print(\"Unique dates\")\n",
        "print(ee.List.getInfo(dates))"
      ],
      "metadata": {
        "colab": {
          "base_uri": "https://localhost:8080/"
        },
        "id": "9jbiEpeZAlDY",
        "outputId": "5a27c2ad-ce36-49f9-b581-5c81bab2b413"
      },
      "execution_count": 116,
      "outputs": [
        {
          "output_type": "stream",
          "name": "stdout",
          "text": [
            "Unique dates\n",
            "['2023-01-05', '2023-01-05', '2023-01-10', '2023-01-10', '2023-01-15', '2023-01-15', '2023-01-25', '2023-01-25', '2023-02-09', '2023-02-09', '2023-02-14', '2023-02-14', '2023-02-19', '2023-02-19']\n"
          ]
        }
      ]
    },
    {
      "cell_type": "code",
      "source": [
        "# Append the new files we are going to process\n",
        "# Upload list of unique ids of files we processed\n",
        "client = storage.Client(credentials=credentials)\n",
        "BUCKET = client.get_bucket(OUTPUT_BUCKET)\n",
        "filename = \"idlist.json\"\n",
        "blob = BUCKET.blob(filename)\n",
        "json_object = idslist + newids\n",
        "\n",
        "blob.upload_from_string(\n",
        "    data=json.dumps(json_object),\n",
        "    content_type='application/json'\n",
        ")\n",
        "result = filename + ' upload complete'"
      ],
      "metadata": {
        "id": "HlDOlq8s1U0f"
      },
      "execution_count": 117,
      "outputs": []
    },
    {
      "cell_type": "code",
      "source": [
        "# This function adds a band representing the image timestamp.\n",
        "def addTime(image):\n",
        "  names = image.bandNames().add('t')\n",
        "  return image.addBands(image.getNumber('system:time_start')).rename(names)\n",
        "# Map the function over the collection\n",
        "#imcol_with_time = imcol.map(addTime)\n",
        "#img = imcol.first()\n",
        "#print(ee.List.getInfo(img.bandNames()))\n",
        "#img = imcol_with_time.first()\n",
        "#print(ee.List.getInfo(img.bandNames()))"
      ],
      "metadata": {
        "id": "VXLD8p5_M2i4"
      },
      "execution_count": 118,
      "outputs": []
    },
    {
      "cell_type": "code",
      "source": [
        "def mosaicByDate(imcol):\n",
        "  imlist = imcol.toList(imcol.size())\n",
        "  unique_dates = imlist.map(lambda im: ee.Image(im).date().format(\"YYYY-MM-dd\")).distinct()\n",
        "\n",
        "  def match_dates(d):\n",
        "    d = ee.Date(d)\n",
        "    dateString = ee.Date(d).format('yyyy-MM-dd')\n",
        "    im = imcol.filterDate(d, d.advance(1, \"day\")).mosaic()\n",
        "    return im.set(\n",
        "        \"system:time_start\", d.millis(), \n",
        "        \"system:id\", d.format(\"YYYY-MM-dd\"))#.rename(dateString)\n",
        "\n",
        "  mosaic_imlist = unique_dates.map(match_dates)\n",
        "\n",
        "  return ee.ImageCollection(mosaic_imlist)\n",
        "\n",
        "moscol = mosaicByDate(imcol_new)\n",
        "#moscol_time = mosaicByDate(imcol_with_time)"
      ],
      "metadata": {
        "id": "IuaEl3qOZfYt"
      },
      "execution_count": 119,
      "outputs": []
    },
    {
      "cell_type": "code",
      "source": [
        "def rename_date(img):\n",
        "  date_string = ee.Image(img).date().format(\"_YYYY-MM-dd\")\n",
        "  #img = img.rename(ee.String('BE').cat(date_string))\n",
        "  rstr = img.bandNames().map(lambda bandname: ee.String(bandname).cat(date_string))\n",
        "  img = img.rename(rstr)\n",
        "  return img\n",
        "\n",
        "moscol = moscol.map(rename_date)"
      ],
      "metadata": {
        "id": "ef8LgvQdlb6h"
      },
      "execution_count": 120,
      "outputs": []
    },
    {
      "cell_type": "code",
      "source": [
        "img = moscol.first()#.clip(ROI_POLY)\n",
        "projection = img.select(1).projection().getInfo();\n",
        "projection['crs']"
      ],
      "metadata": {
        "id": "e2CRPTXPZ2yo",
        "outputId": "4cbeca06-9704-48ff-bd40-55bc4ce62aa6",
        "colab": {
          "base_uri": "https://localhost:8080/",
          "height": 36
        }
      },
      "execution_count": 121,
      "outputs": [
        {
          "output_type": "execute_result",
          "data": {
            "text/plain": [
              "'EPSG:4326'"
            ],
            "application/vnd.google.colaboratory.intrinsic+json": {
              "type": "string"
            }
          },
          "metadata": {},
          "execution_count": 121
        }
      ]
    },
    {
      "cell_type": "code",
      "source": [
        "moslist = moscol.toList(moscol.size())\n",
        "# print(mostlist.getInfo())\n",
        "unique_dates_mos = moslist.map(lambda im: ee.Image(im).date().format(\"YYYY-MM-dd\")) \n",
        "print(ee.List.getInfo(unique_dates_mos))\n",
        "ee.List.getInfo(moscol.first().bandNames())"
      ],
      "metadata": {
        "id": "h_2Xdt21mMfy",
        "outputId": "7c3a54f1-d2a9-499f-8149-b79dfed5812d",
        "colab": {
          "base_uri": "https://localhost:8080/"
        }
      },
      "execution_count": 122,
      "outputs": [
        {
          "output_type": "stream",
          "name": "stdout",
          "text": [
            "['2023-01-05', '2023-01-10', '2023-01-15', '2023-01-25', '2023-02-09', '2023-02-14', '2023-02-19']\n"
          ]
        },
        {
          "output_type": "execute_result",
          "data": {
            "text/plain": [
              "['B2_2023-01-05',\n",
              " 'B3_2023-01-05',\n",
              " 'B4_2023-01-05',\n",
              " 'B8_2023-01-05',\n",
              " 'QA60_2023-01-05']"
            ]
          },
          "metadata": {},
          "execution_count": 122
        }
      ]
    },
    {
      "cell_type": "code",
      "source": [
        "# Convert collection to a single multiband image\n",
        "moscol_bands = moscol.toBands()\n",
        "ee.List.getInfo(moscol_bands.bandNames())"
      ],
      "metadata": {
        "id": "2E10SNvLV4IP",
        "outputId": "d93028c8-882c-49d5-8999-2f2a269db727",
        "colab": {
          "base_uri": "https://localhost:8080/"
        }
      },
      "execution_count": 123,
      "outputs": [
        {
          "output_type": "execute_result",
          "data": {
            "text/plain": [
              "['0_B2_2023-01-05',\n",
              " '0_B3_2023-01-05',\n",
              " '0_B4_2023-01-05',\n",
              " '0_B8_2023-01-05',\n",
              " '0_QA60_2023-01-05',\n",
              " '1_B2_2023-01-10',\n",
              " '1_B3_2023-01-10',\n",
              " '1_B4_2023-01-10',\n",
              " '1_B8_2023-01-10',\n",
              " '1_QA60_2023-01-10',\n",
              " '2_B2_2023-01-15',\n",
              " '2_B3_2023-01-15',\n",
              " '2_B4_2023-01-15',\n",
              " '2_B8_2023-01-15',\n",
              " '2_QA60_2023-01-15',\n",
              " '3_B2_2023-01-25',\n",
              " '3_B3_2023-01-25',\n",
              " '3_B4_2023-01-25',\n",
              " '3_B8_2023-01-25',\n",
              " '3_QA60_2023-01-25',\n",
              " '4_B2_2023-02-09',\n",
              " '4_B3_2023-02-09',\n",
              " '4_B4_2023-02-09',\n",
              " '4_B8_2023-02-09',\n",
              " '4_QA60_2023-02-09',\n",
              " '5_B2_2023-02-14',\n",
              " '5_B3_2023-02-14',\n",
              " '5_B4_2023-02-14',\n",
              " '5_B8_2023-02-14',\n",
              " '5_QA60_2023-02-14',\n",
              " '6_B2_2023-02-19',\n",
              " '6_B3_2023-02-19',\n",
              " '6_B4_2023-02-19',\n",
              " '6_B8_2023-02-19',\n",
              " '6_QA60_2023-02-19']"
            ]
          },
          "metadata": {},
          "execution_count": 123
        }
      ]
    },
    {
      "cell_type": "code",
      "source": [
        "# Save 10m bands\n",
        "task = ee.batch.Export.image.toCloudStorage(**{\n",
        "  'image': moscol_bands,\n",
        "  'description': 'image_export_job',\n",
        "  'crs': 'EPSG:7854',\n",
        "  'bucket': OUTPUT_BUCKET,\n",
        "  'fileNamePrefix': 'angle_brick_1',\n",
        "  #'dimensions':,\n",
        "  'crs': projection['crs'],\n",
        "  'scale':10,\n",
        "  'crsTransform': projection['transform'],\n",
        "  'region': ROI_POLY,\n",
        "  'fileFormat': 'GeoTIFF',\n",
        "  'formatOptions': {\n",
        "    'cloudOptimized': True\n",
        "  },\n",
        "  'maxPixels': 1e8})\n",
        "task.start()"
      ],
      "metadata": {
        "id": "Lb9dhyEeZkuY"
      },
      "execution_count": 124,
      "outputs": []
    },
    {
      "cell_type": "code",
      "source": [
        "print(ee.batch.Task.list())"
      ],
      "metadata": {
        "id": "T3PaMbuwenVh",
        "outputId": "aad5961f-a4d6-4d3a-9e9d-86fc38947bde",
        "colab": {
          "base_uri": "https://localhost:8080/"
        }
      },
      "execution_count": null,
      "outputs": [
        {
          "output_type": "stream",
          "name": "stdout",
          "text": [
            "[<Task 56UFYNZEA62OZS773AFM4HIW EXPORT_IMAGE: image_export_job (COMPLETED)>, <Task 4UWFYRAPAXVOGUEPJNOTIXSL EXPORT_IMAGE: image_export_job (FAILED)>, <Task FFMRIHTXOSD6BTZAC27M75AY EXPORT_IMAGE: image_export_job (COMPLETED)>, <Task GDNBUX4OGPSDR6AZCYM2BQLI EXPORT_IMAGE: image_export_job (FAILED)>, <Task ZTUJEMBS3UVX7FQWCYG4A7TP EXPORT_IMAGE: image_export_job (COMPLETED)>, <Task G6CGHA7AAZCJW6JDIGFYZ32M EXPORT_IMAGE: image_export_job (FAILED)>, <Task 4OUYJLO5NB6MCGRRHTIUDCXY EXPORT_IMAGE: image_export_job (FAILED)>, <Task 2JCZKLBUWKHOINLOYDXTCYRV EXPORT_IMAGE: image_export_job (FAILED)>, <Task L6J25XQIYR4DWGWPQ65HD44A EXPORT_IMAGE: image_export_job (FAILED)>, <Task 4F3EKAT6MI7TDEVT7I6XMEPA EXPORT_IMAGE: image_export_job (FAILED)>, <Task X6V7MSVE6Z4W4Q7Y4ZFHJXRZ EXPORT_IMAGE: image_export_job (FAILED)>, <Task D3VI7SLHBITSBA7VRFJIBUL7 EXPORT_IMAGE: image_export_job (FAILED)>, <Task MYTFJ7KAE2KTNHG54PEDIKQZ EXPORT_IMAGE: image_export_job (COMPLETED)>]\n"
          ]
        }
      ]
    },
    {
      "cell_type": "code",
      "source": [
        "blobs = client.list_blobs(OUTPUT_BUCKET)\n",
        "# Note: The call returns a response only when the iterator is consumed.\n",
        "for blob in blobs:\n",
        "  print(blob.name)"
      ],
      "metadata": {
        "id": "cuG0Xv3ndzIO",
        "outputId": "a206028a-b4d7-4d2b-e802-711f9233b6e8",
        "colab": {
          "base_uri": "https://localhost:8080/"
        }
      },
      "execution_count": null,
      "outputs": [
        {
          "output_type": "stream",
          "name": "stdout",
          "text": [
            "angle.tif\n",
            "angle_col.tif\n",
            "idlist.json\n"
          ]
        }
      ]
    },
    {
      "cell_type": "code",
      "source": [
        "# Some information about the image list we are processing\n",
        "def get_name(img):\n",
        "  return(ee.Image(img).getString('id'))"
      ],
      "metadata": {
        "id": "M3i8ec3sL9Lh"
      },
      "execution_count": null,
      "outputs": []
    },
    {
      "cell_type": "code",
      "source": [],
      "metadata": {
        "id": "k2xSOpPLgCMq"
      },
      "execution_count": null,
      "outputs": []
    },
    {
      "cell_type": "code",
      "source": [
        "# Define another date\n",
        "# This time search the local archives to see if these dates are present"
      ],
      "metadata": {
        "id": "DqivdBXbES_3"
      },
      "execution_count": null,
      "outputs": []
    },
    {
      "cell_type": "code",
      "source": [
        "# Get some information about the extracted collection\n",
        "# Get the size of the collection. NB this can be expensive to run!\n",
        "#print(ee.Number.getInfo(imcol.size()))\n",
        "\n",
        "\n",
        "print(ee.List.getInfo(unique_dates))\n",
        "imlist = imcol.toList(imcol.size())\n",
        "dates = imlist.map(lambda im: ee.Image(im).date()  )\n",
        "idslist = ee.List.getInfo(dates)\n",
        "#print(ee.List.getInfo(idslist))"
      ],
      "metadata": {
        "id": "s7-KraNdHCQM",
        "outputId": "cb656d8b-315e-4655-dbb8-35583f08df3d",
        "colab": {
          "base_uri": "https://localhost:8080/"
        }
      },
      "execution_count": null,
      "outputs": [
        {
          "output_type": "stream",
          "name": "stdout",
          "text": [
            "Image IDs\n",
            "['20230105T002049_20230105T002432_T54HYC', '20230105T002049_20230105T002432_T55HBT', '20230110T002051_20230110T002415_T54HYC', '20230110T002051_20230110T002415_T55HBT', '20230115T002049_20230115T002358_T54HYC', '20230115T002049_20230115T002358_T55HBT', '20230125T002049_20230125T002320_T54HYC', '20230125T002049_20230125T002320_T55HBT']\n",
            "Dates\n",
            "['2023-01-05', '2023-01-05', '2023-01-10', '2023-01-10', '2023-01-15', '2023-01-15', '2023-01-25', '2023-01-25']\n",
            "Unique dates\n",
            "['2023-01-05', '2023-01-10', '2023-01-15', '2023-01-25']\n"
          ]
        }
      ]
    },
    {
      "cell_type": "code",
      "source": [
        "\"\"\"COPERNICUS/S2_SR_HARMONIZED\": {\n",
        "        \"AOT\": {\n",
        "            \"offset\": 0.0,\n",
        "            \"scale\": 0.001\n",
        "        },\n",
        "        \"B1\": {\n",
        "            \"offset\": 0.0,\n",
        "            \"scale\": 0.0001\n",
        "        },\n",
        "        \"B11\": {\n",
        "            \"offset\": 0.0,\n",
        "            \"scale\": 0.0001\n",
        "        },\n",
        "        \"B12\": {\n",
        "            \"offset\": 0.0,\n",
        "            \"scale\": 0.0001\n",
        "        },\n",
        "        \"B2\": {\n",
        "            \"offset\": 0.0,\n",
        "            \"scale\": 0.0001\n",
        "        },\n",
        "        \"B3\": {\n",
        "            \"offset\": 0.0,\n",
        "            \"scale\": 0.0001\n",
        "        },\n",
        "        \"B4\": {\n",
        "            \"offset\": 0.0,\n",
        "            \"scale\": 0.0001\n",
        "        },\n",
        "        \"B5\": {\n",
        "            \"offset\": 0.0,\n",
        "            \"scale\": 0.0001\n",
        "        },\n",
        "        \"B6\": {\n",
        "            \"offset\": 0.0,\n",
        "            \"scale\": 0.0001\n",
        "        },\n",
        "        \"B7\": {\n",
        "            \"offset\": 0.0,\n",
        "            \"scale\": 0.0001\n",
        "        },\n",
        "        \"B8\": {\n",
        "            \"offset\": 0.0,\n",
        "            \"scale\": 0.0001\n",
        "        },\n",
        "        \"B8A\": {\n",
        "            \"offset\": 0.0,\n",
        "            \"scale\": 0.0001\n",
        "        },\n",
        "        \"B9\": {\n",
        "            \"offset\": 0.0,\n",
        "            \"scale\": 0.0001\n",
        "        },\n",
        "        \"MSK_CLDPRB\": {\n",
        "            \"offset\": 0.0,\n",
        "            \"scale\": 1.0\n",
        "        },\n",
        "        \"MSK_SNWPRB\": {\n",
        "            \"offset\": 0.0,\n",
        "            \"scale\": 1.0\n",
        "        },\n",
        "        \"QA10\": {\n",
        "            \"offset\": 0.0,\n",
        "            \"scale\": 1.0\n",
        "        },\n",
        "        \"QA20\": {\n",
        "            \"offset\": 0.0,\n",
        "            \"scale\": 1.0\n",
        "        },\n",
        "        \"QA60\": {\n",
        "            \"offset\": 0.0,\n",
        "            \"scale\": 1.0\n",
        "        },\n",
        "        \"SCL\": {\n",
        "            \"offset\": 0.0,\n",
        "            \"scale\": 1.0\n",
        "        },\n",
        "        \"TCI_B\": {\n",
        "            \"offset\": 0.0,\n",
        "            \"scale\": 1.0\n",
        "        },\n",
        "        \"TCI_G\": {\n",
        "            \"offset\": 0.0,\n",
        "            \"scale\": 1.0\n",
        "        },\n",
        "        \"TCI_R\": {\n",
        "            \"offset\": 0.0,\n",
        "            \"scale\": 1.0\n",
        "        },\n",
        "        \"WVP\": {\n",
        "            \"offset\": 0.0,\n",
        "            \"scale\": 0.001\n",
        "        }\n",
        "    },\"\"\""
      ],
      "metadata": {
        "id": "om8RCr8vbOWQ"
      },
      "execution_count": null,
      "outputs": []
    }
  ],
  "metadata": {
    "colab": {
      "provenance": []
    },
    "kernelspec": {
      "display_name": "Python 3",
      "name": "python3"
    },
    "language_info": {
      "name": "python"
    }
  },
  "nbformat": 4,
  "nbformat_minor": 0
}