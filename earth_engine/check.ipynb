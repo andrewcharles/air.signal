{
  "cells": [
    {
      "cell_type": "code",
      "execution_count": null,
      "metadata": {
        "id": "fSxob73CxnsT"
      },
      "outputs": [],
      "source": [
        "# A notebook for checking the latest sentinel images for a defined area.\n",
        "# First, need a means of storing previous imagery."
      ]
    },
    {
      "cell_type": "code",
      "source": [
        "# These lines require user intervention\n",
        "from google.colab import auth\n",
        "auth.authenticate_user()\n",
        "from google.colab import drive\n",
        "drive.mount('/content/drive')"
      ],
      "metadata": {
        "id": "-rtVuu-uxtZh"
      },
      "execution_count": 1,
      "outputs": []
    },
    {
      "cell_type": "code",
      "source": [
        "from google.oauth2 import service_account\n",
        "from google.cloud import storage\n",
        "import ee\n",
        "\n",
        "# Skip earth engine login clickety click\n",
        "credentials = service_account.Credentials.from_service_account_file('/content/drive/MyDrive/earth-engine-workflow-013a80bf4f5b.json')\n",
        "service_account = 'harvester@earth-engine-workflow.iam.gserviceaccount.com'\n",
        "credentials = ee.ServiceAccountCredentials(service_account, '/content/drive/MyDrive/earth-engine-workflow-013a80bf4f5b.json')\n",
        "ee.Initialize(credentials)\n",
        "\n",
        "# Check for bucket and create if not present\n",
        "client = storage.Client(credentials=credentials)\n",
        "client\n",
        "OUTPUT_BUCKET = 'airsignal2023'\n",
        "\n",
        "def create_bucket(bucket_name):\n",
        "    storage_client = storage.Client()    \n",
        "    bucket = storage_client.create_bucket(bucket_name)\n",
        "    print('Bucket {} created'.format(bucket.name))\n",
        "\n",
        "def bucket_exists(bucket_name):\n",
        "    storage_client = storage.Client()\n",
        "    bucket = storage_client.bucket(bucket_name)\n",
        "    try:\n",
        "        bucket.reload()\n",
        "        return True\n",
        "    except Exception as e:\n",
        "        print(e)\n",
        "        return False\n",
        "\n",
        "# Replace <BUCKET_NAME> with the name of your bucket\n",
        "if bucket_exists(OUTPUT_BUCKET):\n",
        "  print('Bucket exists')\n",
        "else:\n",
        "  print('Bucket does not exist')\n",
        "  create_bucket(OUTPUT_BUCKET)\n"
      ],
      "metadata": {
        "id": "t8kex7QLx6vy",
        "colab": {
          "base_uri": "https://localhost:8080/"
        },
        "outputId": "b95ed6ae-a1bf-49a2-87c0-6c9e1db32b46"
      },
      "execution_count": 4,
      "outputs": [
        {
          "output_type": "stream",
          "name": "stdout",
          "text": [
            "Bucket exists\n"
          ]
        }
      ]
    },
    {
      "cell_type": "code",
      "source": [
        "#!pip install earthengine-api"
      ],
      "metadata": {
        "id": "tIlG4QQaoKYE"
      },
      "execution_count": null,
      "outputs": []
    },
    {
      "cell_type": "code",
      "execution_count": 5,
      "metadata": {
        "id": "UveTlp9R3VZk"
      },
      "outputs": [],
      "source": [
        "# Anglesea Heath\n",
        "xmin = 144.3\n",
        "xmax = 144.25\n",
        "ymin = -38.3\n",
        "ymax = -38.44\n",
        "\n",
        "ROI_POLY = ee.Geometry.Polygon([[[xmin, ymax],\n",
        "                          [xmin, ymin],\n",
        "                          [xmax, ymin],\n",
        "                          [xmax, ymax]]])\n",
        "lat,lon = (ymin+ymax)/2,(xmin+xmax)/2"
      ]
    },
    {
      "cell_type": "code",
      "source": [
        "# Define a first set of dates\n",
        "START_DATE = \"2023-01-01\"\n",
        "END_DATE =  \"2023-02-01\""
      ],
      "metadata": {
        "id": "v6ijSbQJEK-W"
      },
      "execution_count": 6,
      "outputs": []
    },
    {
      "cell_type": "code",
      "source": [
        "# SENTINEL FUNCTIONS\n",
        "# Use QA for mask then discard\n",
        "#https://github.com/davemlz/ee-catalog-scale-offset-params/blob/main/list/ee-catalog-scale-offset-parameters.json\n",
        "#bands_10m =\n",
        "#bands_60m = \n",
        "#SCALE_BANDS =\n",
        "BANDS = ['B2','B3','B4','B8','QA60']\n",
        "CLOUD_LIMIT = 50\n",
        "def se2mask(image):\n",
        "    quality_band = image.select('QA60')\n",
        "    # using the bit mask for clouds and cirrus clouds respectively\n",
        "    cloudmask = 1 << 10\n",
        "    cirrusmask = 1 << 11    \n",
        "    # we only want clear skies\n",
        "    mask = quality_band.bitwiseAnd(cloudmask).eq(0) and (quality_band.bitwiseAnd(cirrusmask).eq(0)) \n",
        "    # we'll divide by 10000 to make interpreting the reflectance values easier\n",
        "    return image.updateMask(mask)#.divide(10000)\n",
        "\n",
        "def scale(image):\n",
        "  bands = ['B2','B3','B4','B8']\n",
        "  image = image.select(bands).multiply(0.0001)\n",
        "  #image = image.addBands(im2.select(bands))\n",
        "  return image"
      ],
      "metadata": {
        "id": "LoTmi34EtlZx"
      },
      "execution_count": 14,
      "outputs": []
    },
    {
      "cell_type": "code",
      "source": [
        "imcol = ee.ImageCollection('COPERNICUS/S2_SR_HARMONIZED').filterBounds(ROI_POLY).filterDate(\n",
        "    START_DATE, END_DATE).filter(ee.Filter.lt(\"CLOUDY_PIXEL_PERCENTAGE\",CLOUD_LIMIT)).select(BANDS).map(scale)\n",
        "#.map(se2mask)\n",
        "# map(lambda img: img.divide(10000))\n",
        "# NB this can be expensive to run!\n",
        "#print(ee.Number.getInfo(imcol.size()))"
      ],
      "metadata": {
        "id": "n3M55jHxJRE9"
      },
      "execution_count": 46,
      "outputs": []
    },
    {
      "cell_type": "code",
      "source": [
        "# Some information about the image list we are processing\n",
        "def get_name(img):\n",
        "  return(ee.Image(img).getString('id'))\n",
        "\n",
        "imlist = imcol.toList(imcol.size())\n",
        "#unique_dates = imlist.map(lambda im: ee.Image(im).date().format(\"YYYY-MM-dd\")) \n",
        "#print(ee.List.getInfo(unique_dates))\n",
        "unique_ids = imlist.map(lambda im: ee.Image(im).id()  )\n",
        "idslist = ee.List.getInfo(unique_ids)"
      ],
      "metadata": {
        "id": "M3i8ec3sL9Lh"
      },
      "execution_count": 41,
      "outputs": []
    },
    {
      "cell_type": "code",
      "source": [
        "PROJECT_ID = \"earth-engine-workflow\"\n",
        "BUCKET_NAME = \"airsignal2023\"\n",
        "REGION = \"us-central1\"\n",
        "USER_NAME = 'charlesan'"
      ],
      "metadata": {
        "id": "eq9yhqCtxv9L"
      },
      "execution_count": 192,
      "outputs": []
    },
    {
      "cell_type": "code",
      "source": [
        "import json\n",
        "json.dumps(idslist)"
      ],
      "metadata": {
        "colab": {
          "base_uri": "https://localhost:8080/",
          "height": 70
        },
        "id": "pX5atMRN36x9",
        "outputId": "94e754ad-f63b-4e1c-f2db-372b606b13c2"
      },
      "execution_count": 22,
      "outputs": [
        {
          "output_type": "execute_result",
          "data": {
            "text/plain": [
              "'[\"20230105T002049_20230105T002432_T54HYC\", \"20230105T002049_20230105T002432_T55HBT\", \"20230110T002051_20230110T002415_T54HYC\", \"20230110T002051_20230110T002415_T55HBT\", \"20230115T002049_20230115T002358_T54HYC\", \"20230115T002049_20230115T002358_T55HBT\", \"20230125T002049_20230125T002320_T54HYC\", \"20230125T002049_20230125T002320_T55HBT\"]'"
            ],
            "application/vnd.google.colaboratory.intrinsic+json": {
              "type": "string"
            }
          },
          "metadata": {},
          "execution_count": 22
        }
      ]
    },
    {
      "cell_type": "code",
      "source": [
        "# Upload list of files we processed\n",
        "client = storage.Client(credentials=credentials)\n",
        "BUCKET = client.get_bucket(OUTPUT_BUCKET)\n",
        "filename = \"idlist.json\"\n",
        "blob = BUCKET.blob(filename)\n",
        "json_object = idslist\n",
        "\n",
        "blob.upload_from_string(\n",
        "    data=json.dumps(json_object),\n",
        "    content_type='application/json'\n",
        ")\n",
        "result = filename + ' upload complete'"
      ],
      "metadata": {
        "id": "HlDOlq8s1U0f"
      },
      "execution_count": 24,
      "outputs": []
    },
    {
      "cell_type": "code",
      "source": [
        "img = imcol.first().clip(ROI_POLY)"
      ],
      "metadata": {
        "id": "2R13Wn7pm9gK"
      },
      "execution_count": 16,
      "outputs": []
    },
    {
      "cell_type": "code",
      "source": [
        "projection = img.select('B2').projection().getInfo();"
      ],
      "metadata": {
        "id": "e2CRPTXPZ2yo"
      },
      "execution_count": 22,
      "outputs": []
    },
    {
      "cell_type": "code",
      "source": [
        "ee.List.getInfo(img.bandNames())"
      ],
      "metadata": {
        "id": "Mvb1YBFtaI2h",
        "outputId": "d49f3ed8-7315-4f16-e2be-9b5b802e93a8",
        "colab": {
          "base_uri": "https://localhost:8080/"
        }
      },
      "execution_count": 17,
      "outputs": [
        {
          "output_type": "execute_result",
          "data": {
            "text/plain": [
              "['B2', 'B3', 'B4', 'B8']"
            ]
          },
          "metadata": {},
          "execution_count": 17
        }
      ]
    },
    {
      "cell_type": "code",
      "source": [
        "projection['crs']"
      ],
      "metadata": {
        "id": "f_sOKMxXeBY-",
        "outputId": "119e3a58-4660-4cc1-800c-dba624af6f67",
        "colab": {
          "base_uri": "https://localhost:8080/",
          "height": 35
        }
      },
      "execution_count": 24,
      "outputs": [
        {
          "output_type": "execute_result",
          "data": {
            "text/plain": [
              "'EPSG:32754'"
            ],
            "application/vnd.google.colaboratory.intrinsic+json": {
              "type": "string"
            }
          },
          "metadata": {},
          "execution_count": 24
        }
      ]
    },
    {
      "cell_type": "code",
      "source": [
        "# Save 10m bands\n",
        "task = ee.batch.Export.image.toCloudStorage(**{\n",
        "  'image': img,\n",
        "  'description': 'image_export_job',\n",
        "  'crs': 'EPSG:7854',\n",
        "  'bucket': OUTPUT_BUCKET,\n",
        "  'fileNamePrefix': 'angle',\n",
        "  #'dimensions':,\n",
        "  'crs': projection['crs'],\n",
        "  'scale':10,\n",
        "  'crsTransform': projection['transform'],\n",
        "  'region': ROI_POLY,\n",
        "  'fileFormat': 'GeoTIFF',\n",
        "  'formatOptions': {\n",
        "    'cloudOptimized': True\n",
        "  },\n",
        "  'maxPixels': 1e8})\n",
        "task.start()"
      ],
      "metadata": {
        "id": "Lb9dhyEeZkuY"
      },
      "execution_count": 26,
      "outputs": []
    },
    {
      "cell_type": "code",
      "source": [
        "blobs = client.list_blobs(OUTPUT_BUCKET)\n",
        "# Note: The call returns a response only when the iterator is consumed.\n",
        "for blob in blobs:\n",
        "  print(blob.name)"
      ],
      "metadata": {
        "id": "cuG0Xv3ndzIO",
        "outputId": "5f86c748-8cc1-444a-a013-4af13f300e93",
        "colab": {
          "base_uri": "https://localhost:8080/"
        }
      },
      "execution_count": 27,
      "outputs": [
        {
          "output_type": "stream",
          "name": "stdout",
          "text": [
            "idlist.json\n"
          ]
        }
      ]
    },
    {
      "cell_type": "code",
      "source": [
        "print(ee.batch.Task.list())"
      ],
      "metadata": {
        "id": "T3PaMbuwenVh",
        "outputId": "588544c5-0e6b-42ce-adcb-ac8a61214a4b",
        "colab": {
          "base_uri": "https://localhost:8080/"
        }
      },
      "execution_count": 29,
      "outputs": [
        {
          "output_type": "stream",
          "name": "stdout",
          "text": [
            "[<Task MYTFJ7KAE2KTNHG54PEDIKQZ EXPORT_IMAGE: image_export_job (COMPLETED)>]\n"
          ]
        }
      ]
    },
    {
      "cell_type": "code",
      "source": [
        "names = img.bandNames()\n",
        "ee.List.getInfo(names)"
      ],
      "metadata": {
        "id": "HntlOTa5nWjU"
      },
      "execution_count": 170,
      "outputs": []
    },
    {
      "cell_type": "code",
      "source": [
        "#range = imcol.reduceColumns(ee.Reducer.minMax(), ['system:time_start'])\n",
        "#ee.Dictionary.getInfo(range)\n",
        "\n",
        "# This function adds a band representing the image timestamp.\n",
        "def addTime(image):\n",
        "  return image.addBands(image.getNumber('system:time_start'))\n",
        "# Map the function over the collection and display the result.\n",
        "imcol = imcol.map(addTime)"
      ],
      "metadata": {
        "id": "VXLD8p5_M2i4"
      },
      "execution_count": 48,
      "outputs": []
    },
    {
      "cell_type": "code",
      "source": [
        "# why this no work?\n",
        "unique_dates = imlist.map(lambda im: ee.Image(im).date().format(\"YYYY-MM-dd\")) \n",
        "print(ee.List.getInfo(unique_dates))"
      ],
      "metadata": {
        "id": "xpfLxvoHg8tN"
      },
      "execution_count": null,
      "outputs": []
    },
    {
      "cell_type": "code",
      "source": [
        "# broke\n",
        "#def getDate(image):\n",
        "#  return image.getNumber('system:time_start')\n",
        "#dates = imlist.map(getDate)"
      ],
      "metadata": {
        "id": "vad7k8Lshj1Z"
      },
      "execution_count": null,
      "outputs": []
    },
    {
      "cell_type": "code",
      "source": [
        "dates"
      ],
      "metadata": {
        "id": "3CjvB2_whsGK",
        "outputId": "d58fc96f-8e0a-4334-c989-19db8b470964",
        "colab": {
          "base_uri": "https://localhost:8080/"
        }
      },
      "execution_count": 51,
      "outputs": [
        {
          "output_type": "execute_result",
          "data": {
            "text/plain": [
              "<ee.imagecollection.ImageCollection object at 0x7f40035ba640>"
            ]
          },
          "metadata": {},
          "execution_count": 51
        }
      ]
    },
    {
      "cell_type": "code",
      "source": [
        "def mosaicByDate(imcol):\n",
        "  imlist = imcol.toList(imcol.size())\n",
        "  unique_dates = imlist.map(lambda im: ee.Image(im).date().format(\"YYYY-MM-dd\")).distinct()\n",
        "\n",
        "  def match_dates(d):\n",
        "    d = ee.Date(d)\n",
        "    dateString = ee.Date(d).format('yyyy-MM-dd')\n",
        "    im = imcol.filterDate(d, d.advance(1, \"day\")).mosaic()\n",
        "    return im.set(\n",
        "        \"system:time_start\", d.millis(), \n",
        "        \"system:id\", d.format(\"YYYY-MM-dd\")).rename(dateString)\n",
        "\n",
        "  mosaic_imlist = unique_dates.map(match_dates)\n",
        "\n",
        "  return ee.ImageCollection(mosaic_imlist)\n",
        "\n",
        "moscol = mosaicByDate(imcol)"
      ],
      "metadata": {
        "id": "IuaEl3qOZfYt"
      },
      "execution_count": 34,
      "outputs": []
    },
    {
      "cell_type": "code",
      "source": [
        "moscol"
      ],
      "metadata": {
        "colab": {
          "base_uri": "https://localhost:8080/"
        },
        "id": "R2_rGfT1eAgl",
        "outputId": "78270d40-5ff9-48d7-ce62-7378b957c243"
      },
      "execution_count": 110,
      "outputs": [
        {
          "output_type": "execute_result",
          "data": {
            "text/plain": [
              "<ee.imagecollection.ImageCollection object at 0x7fde6ab13520>"
            ]
          },
          "metadata": {},
          "execution_count": 110
        }
      ]
    },
    {
      "cell_type": "code",
      "source": [
        "imlist = imcol.toList(imcol.size())\n",
        "dates = imlist.map(lambda im: ee.Image(im).date()  )\n",
        "idslist = ee.List.getInfo(dates)\n",
        "#print(ee.List.getInfo(idslist))"
      ],
      "metadata": {
        "id": "k2xSOpPLgCMq"
      },
      "execution_count": null,
      "outputs": []
    },
    {
      "cell_type": "code",
      "source": [
        "unique_dates"
      ],
      "metadata": {
        "colab": {
          "base_uri": "https://localhost:8080/"
        },
        "id": "jlFRHJRGeFc9",
        "outputId": "8ec1986d-4cfd-4f41-e5b8-1c5ea5d21458"
      },
      "execution_count": 109,
      "outputs": [
        {
          "output_type": "execute_result",
          "data": {
            "text/plain": [
              "<ee.imagecollection.ImageCollection object at 0x7fde6ab442e0>"
            ]
          },
          "metadata": {},
          "execution_count": 109
        }
      ]
    },
    {
      "cell_type": "code",
      "source": [],
      "metadata": {
        "id": "u8NPr_NbGOV0"
      },
      "execution_count": null,
      "outputs": []
    },
    {
      "cell_type": "code",
      "source": [
        "# Save this image collection"
      ],
      "metadata": {
        "id": "ecFekZYREO--"
      },
      "execution_count": null,
      "outputs": []
    },
    {
      "cell_type": "code",
      "source": [
        "# Define another date\n",
        "# This time search the local archives to see if these dates are present"
      ],
      "metadata": {
        "id": "DqivdBXbES_3"
      },
      "execution_count": null,
      "outputs": []
    },
    {
      "cell_type": "code",
      "execution_count": 1,
      "metadata": {
        "id": "eVbjYuwJ6kwD"
      },
      "outputs": [],
      "source": [
        "%%capture\n",
        "#!pip install geemap"
      ]
    },
    {
      "cell_type": "code",
      "source": [],
      "metadata": {
        "id": "s7DVQ_ipm7hH"
      },
      "execution_count": null,
      "outputs": []
    },
    {
      "cell_type": "code",
      "source": [
        "#import numpy as np\n",
        "#import geemap\n",
        "#import pandas as pd\n",
        "#import plotnine\n",
        "#from scipy import stats\n",
        "#import tensorflow as tf\n",
        "#print(tf.__version__)\n",
        "#print(folium.__version__)"
      ],
      "metadata": {
        "id": "Cf-fVCsoxqni"
      },
      "execution_count": 3,
      "outputs": []
    },
    {
      "cell_type": "code",
      "execution_count": null,
      "metadata": {
        "id": "x91dsWqJ6zfO"
      },
      "outputs": [],
      "source": [
        "import geemap"
      ]
    },
    {
      "cell_type": "code",
      "execution_count": null,
      "metadata": {
        "id": "bCDQoLdm7qrD"
      },
      "outputs": [],
      "source": [
        "rgb = ['B4','B3','B2','B8']\n",
        "rgbViz = {\"min\":0.0, \"max\":0.3,\"bands\":rgb}\n",
        "ndviViz = {\"min\":0.0, \"max\":1.0,\"bands\":['NDVI']}"
      ]
    },
    {
      "cell_type": "code",
      "execution_count": null,
      "metadata": {
        "id": "H9jIJwLx8J_6"
      },
      "outputs": [],
      "source": []
    },
    {
      "cell_type": "code",
      "execution_count": null,
      "metadata": {
        "id": "z5PNYJ323bCU"
      },
      "outputs": [],
      "source": []
    },
    {
      "cell_type": "code",
      "source": [
        "\"\"\"COPERNICUS/S2_SR_HARMONIZED\": {\n",
        "        \"AOT\": {\n",
        "            \"offset\": 0.0,\n",
        "            \"scale\": 0.001\n",
        "        },\n",
        "        \"B1\": {\n",
        "            \"offset\": 0.0,\n",
        "            \"scale\": 0.0001\n",
        "        },\n",
        "        \"B11\": {\n",
        "            \"offset\": 0.0,\n",
        "            \"scale\": 0.0001\n",
        "        },\n",
        "        \"B12\": {\n",
        "            \"offset\": 0.0,\n",
        "            \"scale\": 0.0001\n",
        "        },\n",
        "        \"B2\": {\n",
        "            \"offset\": 0.0,\n",
        "            \"scale\": 0.0001\n",
        "        },\n",
        "        \"B3\": {\n",
        "            \"offset\": 0.0,\n",
        "            \"scale\": 0.0001\n",
        "        },\n",
        "        \"B4\": {\n",
        "            \"offset\": 0.0,\n",
        "            \"scale\": 0.0001\n",
        "        },\n",
        "        \"B5\": {\n",
        "            \"offset\": 0.0,\n",
        "            \"scale\": 0.0001\n",
        "        },\n",
        "        \"B6\": {\n",
        "            \"offset\": 0.0,\n",
        "            \"scale\": 0.0001\n",
        "        },\n",
        "        \"B7\": {\n",
        "            \"offset\": 0.0,\n",
        "            \"scale\": 0.0001\n",
        "        },\n",
        "        \"B8\": {\n",
        "            \"offset\": 0.0,\n",
        "            \"scale\": 0.0001\n",
        "        },\n",
        "        \"B8A\": {\n",
        "            \"offset\": 0.0,\n",
        "            \"scale\": 0.0001\n",
        "        },\n",
        "        \"B9\": {\n",
        "            \"offset\": 0.0,\n",
        "            \"scale\": 0.0001\n",
        "        },\n",
        "        \"MSK_CLDPRB\": {\n",
        "            \"offset\": 0.0,\n",
        "            \"scale\": 1.0\n",
        "        },\n",
        "        \"MSK_SNWPRB\": {\n",
        "            \"offset\": 0.0,\n",
        "            \"scale\": 1.0\n",
        "        },\n",
        "        \"QA10\": {\n",
        "            \"offset\": 0.0,\n",
        "            \"scale\": 1.0\n",
        "        },\n",
        "        \"QA20\": {\n",
        "            \"offset\": 0.0,\n",
        "            \"scale\": 1.0\n",
        "        },\n",
        "        \"QA60\": {\n",
        "            \"offset\": 0.0,\n",
        "            \"scale\": 1.0\n",
        "        },\n",
        "        \"SCL\": {\n",
        "            \"offset\": 0.0,\n",
        "            \"scale\": 1.0\n",
        "        },\n",
        "        \"TCI_B\": {\n",
        "            \"offset\": 0.0,\n",
        "            \"scale\": 1.0\n",
        "        },\n",
        "        \"TCI_G\": {\n",
        "            \"offset\": 0.0,\n",
        "            \"scale\": 1.0\n",
        "        },\n",
        "        \"TCI_R\": {\n",
        "            \"offset\": 0.0,\n",
        "            \"scale\": 1.0\n",
        "        },\n",
        "        \"WVP\": {\n",
        "            \"offset\": 0.0,\n",
        "            \"scale\": 0.001\n",
        "        }\n",
        "    },\"\"\""
      ],
      "metadata": {
        "id": "om8RCr8vbOWQ"
      },
      "execution_count": null,
      "outputs": []
    }
  ],
  "metadata": {
    "colab": {
      "provenance": []
    },
    "kernelspec": {
      "display_name": "Python 3",
      "name": "python3"
    },
    "language_info": {
      "name": "python"
    }
  },
  "nbformat": 4,
  "nbformat_minor": 0
}