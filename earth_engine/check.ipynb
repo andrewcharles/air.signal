{
  "cells": [
    {
      "cell_type": "markdown",
      "metadata": {
        "id": "view-in-github",
        "colab_type": "text"
      },
      "source": [
        "<a href=\"https://colab.research.google.com/github/andrewcharles/air.signal/blob/main/earth_engine/check.ipynb\" target=\"_parent\"><img src=\"https://colab.research.google.com/assets/colab-badge.svg\" alt=\"Open In Colab\"/></a>"
      ]
    },
    {
      "cell_type": "code",
      "execution_count": null,
      "metadata": {
        "id": "fSxob73CxnsT"
      },
      "outputs": [],
      "source": [
        "# A notebook for checking the latest sentinel images for a defined area.\n",
        "# First, need a means of storing previous imagery."
      ]
    },
    {
      "cell_type": "code",
      "source": [
        "from google.colab import auth\n",
        "auth.authenticate_user()"
      ],
      "metadata": {
        "id": "-rtVuu-uxtZh"
      },
      "execution_count": 10,
      "outputs": []
    },
    {
      "cell_type": "code",
      "source": [
        "from google.colab import drive\n",
        "drive.mount('/content/drive')\n",
        "from google.oauth2 import service_account\n",
        "from google.cloud import storage\n",
        "\n",
        "# Replace <path-to-json-key-file> with the path to your JSON key file\n",
        "credentials = service_account.Credentials.from_service_account_file('/content/drive/MyDrive/earth-engine-workflow-013a80bf4f5b.json')\n",
        "service_account = 'harvester@earth-engine-workflow.iam.gserviceaccount.com'\n",
        "credentials = ee.ServiceAccountCredentials(service_account, '/content/drive/MyDrive/earth-engine-workflow-013a80bf4f5b.json')\n",
        "ee.Initialize(credentials)\n",
        "client = storage.Client(credentials=credentials)\n",
        "client\n",
        "OUTPUT_BUCKET = 'airsignal2023'\n",
        "\n",
        "def create_bucket(bucket_name):\n",
        "    storage_client = storage.Client()    \n",
        "    bucket = storage_client.create_bucket(bucket_name)\n",
        "    print('Bucket {} created'.format(bucket.name))\n",
        "\n",
        "def bucket_exists(bucket_name):\n",
        "    storage_client = storage.Client()\n",
        "    bucket = storage_client.bucket(bucket_name)\n",
        "    try:\n",
        "        bucket.reload()\n",
        "        return True\n",
        "    except Exception as e:\n",
        "        print(e)\n",
        "        return False\n",
        "\n",
        "# Replace <BUCKET_NAME> with the name of your bucket\n",
        "if bucket_exists(OUTPUT_BUCKET):\n",
        "  print('Bucket exists')\n",
        "else:\n",
        "  print('Bucket does not exist')\n",
        "  create_bucket(OUTPUT_BUCKET)\n"
      ],
      "metadata": {
        "id": "t8kex7QLx6vy",
        "colab": {
          "base_uri": "https://localhost:8080/"
        },
        "outputId": "770f4cff-7bc5-41f9-ee23-53cba6d1d7bd"
      },
      "execution_count": 11,
      "outputs": [
        {
          "output_type": "stream",
          "name": "stdout",
          "text": [
            "Mounted at /content/drive\n",
            "Bucket exists\n"
          ]
        }
      ]
    },
    {
      "cell_type": "code",
      "execution_count": 9,
      "metadata": {
        "colab": {
          "base_uri": "https://localhost:8080/"
        },
        "id": "fNJXEif825mQ",
        "outputId": "84f8757e-dc6e-4041-8aa4-1d6952abb123"
      },
      "outputs": [
        {
          "output_type": "stream",
          "name": "stdout",
          "text": [
            "To authorize access needed by Earth Engine, open the following URL in a web browser and follow the instructions. If the web browser does not start automatically, please manually browse the URL below.\n",
            "\n",
            "    https://code.earthengine.google.com/client-auth?scopes=https%3A//www.googleapis.com/auth/earthengine%20https%3A//www.googleapis.com/auth/devstorage.full_control&request_id=k-e_UeNZgFOGCH_3IH4TdVLHKiM1FuH5W9uqNfm3Y_g&tc=u9bxS93GL2ic5_uAyMjZWyPoPE2yO1HtLFjA10dcOvo&cc=P-wNmLvPKmsWESSGNeVv_GFvABs3UcZosutI7jRkn60\n",
            "\n",
            "The authorization workflow will generate a code, which you should paste in the box below.\n",
            "Enter verification code: 4/1AVHEtk4bxFUbAjHnkLpuWJvEkGYdITdMGZ26FNT4gCYh8jCl6h9-kwU9vFY\n",
            "\n",
            "Successfully saved authorization token.\n"
          ]
        }
      ],
      "source": [
        "import ee\n",
        "ee.Authenticate()\n",
        "ee.Initialize()"
      ]
    },
    {
      "cell_type": "code",
      "source": [
        "!pip install earthengine-api"
      ],
      "metadata": {
        "id": "tIlG4QQaoKYE"
      },
      "execution_count": null,
      "outputs": []
    },
    {
      "cell_type": "code",
      "execution_count": 12,
      "metadata": {
        "id": "UveTlp9R3VZk"
      },
      "outputs": [],
      "source": [
        "# Anglesea Heath\n",
        "xmin = 144.3\n",
        "xmax = 144.25\n",
        "ymin = -38.3\n",
        "ymax = -38.44\n",
        "\n",
        "ROI_POLY = ee.Geometry.Polygon([[[xmin, ymax],\n",
        "                          [xmin, ymin],\n",
        "                          [xmax, ymin],\n",
        "                          [xmax, ymax]]])\n",
        "lat,lon = (ymin+ymax)/2,(xmin+xmax)/2"
      ]
    },
    {
      "cell_type": "code",
      "source": [
        "# Define a first set of dates\n",
        "START_DATE = \"2023-01-01\"\n",
        "END_DATE =  \"2023-02-01\""
      ],
      "metadata": {
        "id": "v6ijSbQJEK-W"
      },
      "execution_count": 13,
      "outputs": []
    },
    {
      "cell_type": "code",
      "source": [
        "# SENTINEL FUNCTIONS\n",
        "def se2mask(image):\n",
        "    quality_band = image.select('QA60')\n",
        "    # using the bit mask for clouds and cirrus clouds respectively\n",
        "    cloudmask = 1 << 10\n",
        "    cirrusmask = 1 << 11    \n",
        "    # we only want clear skies\n",
        "    mask = quality_band.bitwiseAnd(cloudmask).eq(0) and (quality_band.bitwiseAnd(cirrusmask).eq(0)) \n",
        "    # we'll divide by 10000 to make interpreting the reflectance values easier\n",
        "    return image.updateMask(mask)#.divide(10000)\n",
        "\n",
        "def scale(image):\n",
        "  bands = ['B2','B3','B4']\n",
        "  im2 = image.select(bands).multiply(0.0001)\n",
        "  image = image.addBands(im2.select(bands))\n",
        "  return image"
      ],
      "metadata": {
        "id": "LoTmi34EtlZx"
      },
      "execution_count": 14,
      "outputs": []
    },
    {
      "cell_type": "code",
      "source": [
        "BANDS = ['B1','B2','B3','B4','B8','QA60']\n",
        "CLOUD_LIMIT = 50\n",
        "imcol = ee.ImageCollection('COPERNICUS/S2_SR_HARMONIZED').filterBounds(ROI_POLY).filterDate(\n",
        "    START_DATE, END_DATE).filter(ee.Filter.lt(\"CLOUDY_PIXEL_PERCENTAGE\",CLOUD_LIMIT)).select(BANDS).map(scale)\n",
        "#\n",
        "#.map(se2mask)\n",
        "#map(lambda img: img.divide(10000))"
      ],
      "metadata": {
        "id": "n3M55jHxJRE9"
      },
      "execution_count": 15,
      "outputs": []
    },
    {
      "cell_type": "code",
      "source": [
        "# Some information about the image list we are processing\n",
        "imlist = imcol.toList(imcol.size())\n",
        "unique_dates = imlist.map(lambda im: ee.Image(im).date().format(\"YYYY-MM-dd\")) \n",
        "print(ee.List.getInfo(unique_dates))"
      ],
      "metadata": {
        "colab": {
          "base_uri": "https://localhost:8080/"
        },
        "id": "M3i8ec3sL9Lh",
        "outputId": "371679a6-bb86-4c5e-a43d-8e4f5e968edd"
      },
      "execution_count": 16,
      "outputs": [
        {
          "output_type": "stream",
          "name": "stdout",
          "text": [
            "['2023-01-05', '2023-01-05', '2023-01-10', '2023-01-10', '2023-01-15', '2023-01-15', '2023-01-25', '2023-01-25']\n"
          ]
        }
      ]
    },
    {
      "cell_type": "code",
      "source": [
        "def get_name(img):\n",
        "  return(ee.Image(img).getString('id'))"
      ],
      "metadata": {
        "id": "eq9yhqCtxv9L"
      },
      "execution_count": 192,
      "outputs": []
    },
    {
      "cell_type": "code",
      "source": [
        "unique_ids = imlist.map(lambda im: ee.Image(im).id()  )\n",
        "idslist = ee.List.getInfo(unique_ids)"
      ],
      "metadata": {
        "id": "1YyzNyCcuK41"
      },
      "execution_count": 19,
      "outputs": []
    },
    {
      "cell_type": "code",
      "source": [
        "# STORAGE BUCKET\n",
        "PROJECT_ID = \"earth-engine-workflow\" #@param {type:\"string\"}\n",
        "BUCKET_NAME = \"airsignal2023\" #@param {type:\"string\"}\n",
        "REGION = \"us-central1\" #@param {type:\"string\"}\n",
        "USER_NAME = 'charlesan'\n",
        "# Cloud Storage bucket into which  \n",
        "# datasets will be written.  You must be able to write into this bucket.\n",
        "OUTPUT_BUCKET = 'airsignal2023'"
      ],
      "metadata": {
        "id": "sBtORy_kyDLz"
      },
      "execution_count": 3,
      "outputs": []
    },
    {
      "cell_type": "code",
      "source": [
        "import json\n",
        "json.dumps(idslist)"
      ],
      "metadata": {
        "colab": {
          "base_uri": "https://localhost:8080/",
          "height": 70
        },
        "id": "pX5atMRN36x9",
        "outputId": "94e754ad-f63b-4e1c-f2db-372b606b13c2"
      },
      "execution_count": 22,
      "outputs": [
        {
          "output_type": "execute_result",
          "data": {
            "text/plain": [
              "'[\"20230105T002049_20230105T002432_T54HYC\", \"20230105T002049_20230105T002432_T55HBT\", \"20230110T002051_20230110T002415_T54HYC\", \"20230110T002051_20230110T002415_T55HBT\", \"20230115T002049_20230115T002358_T54HYC\", \"20230115T002049_20230115T002358_T55HBT\", \"20230125T002049_20230125T002320_T54HYC\", \"20230125T002049_20230125T002320_T55HBT\"]'"
            ],
            "application/vnd.google.colaboratory.intrinsic+json": {
              "type": "string"
            }
          },
          "metadata": {},
          "execution_count": 22
        }
      ]
    },
    {
      "cell_type": "code",
      "source": [
        "client = storage.Client(credentials=credentials)\n",
        "BUCKET = client.get_bucket(OUTPUT_BUCKET)\n",
        "filename = \"idlist.json\"\n",
        "blob = BUCKET.blob(filename)\n",
        "json_object = idslist\n",
        "\n",
        "# upload the blob \n",
        "blob.upload_from_string(\n",
        "    data=json.dumps(json_object),\n",
        "    content_type='application/json'\n",
        ")\n",
        "result = filename + ' upload complete'"
      ],
      "metadata": {
        "id": "HlDOlq8s1U0f"
      },
      "execution_count": 24,
      "outputs": []
    },
    {
      "cell_type": "code",
      "source": [
        "img = imcol.first().clip(roi_poly)\n",
        "names = img.bandNames()\n",
        "bands = ['B2','B3','B4']\n",
        "im2 = img.select(bands).multiply(0.0001)\n",
        "image = img.addBands(im2.select(bands))"
      ],
      "metadata": {
        "id": "2R13Wn7pm9gK"
      },
      "execution_count": 169,
      "outputs": []
    },
    {
      "cell_type": "code",
      "source": [
        "names = img.bandNames()"
      ],
      "metadata": {
        "id": "HntlOTa5nWjU"
      },
      "execution_count": 170,
      "outputs": []
    },
    {
      "cell_type": "code",
      "source": [
        "ee.List.getInfo(names)"
      ],
      "metadata": {
        "colab": {
          "base_uri": "https://localhost:8080/"
        },
        "id": "bIlSkl44nEK7",
        "outputId": "680c594a-b0a2-4d9f-9032-0bb674d666f7"
      },
      "execution_count": 171,
      "outputs": [
        {
          "output_type": "execute_result",
          "data": {
            "text/plain": [
              "['B1', 'B2', 'B3', 'B4', 'B8', 'QA60']"
            ]
          },
          "metadata": {},
          "execution_count": 171
        }
      ]
    },
    {
      "cell_type": "code",
      "source": [
        "# NB this can be expensive to run!\n",
        "print(ee.Number.getInfo(imcol.size()))"
      ],
      "metadata": {
        "colab": {
          "base_uri": "https://localhost:8080/"
        },
        "id": "sYJellTgNO7B",
        "outputId": "6029b015-e542-4d54-a208-a69298ab8819"
      },
      "execution_count": 114,
      "outputs": [
        {
          "output_type": "stream",
          "name": "stdout",
          "text": [
            "12\n"
          ]
        }
      ]
    },
    {
      "cell_type": "code",
      "source": [
        "range = imcol.reduceColumns(ee.Reducer.minMax(), ['system:time_start'])\n",
        "ee.Dictionary.getInfo(range)"
      ],
      "metadata": {
        "colab": {
          "base_uri": "https://localhost:8080/"
        },
        "id": "VXLD8p5_M2i4",
        "outputId": "a71715f8-8836-405c-a0b1-c4f644fd55bc"
      },
      "execution_count": 127,
      "outputs": [
        {
          "output_type": "execute_result",
          "data": {
            "text/plain": [
              "{'max': 1674606455028, 'min': 1673310454396}"
            ]
          },
          "metadata": {},
          "execution_count": 127
        }
      ]
    },
    {
      "cell_type": "code",
      "source": [
        "#his function adds a band representing the image timestamp.\n",
        "def addTime(image):\n",
        "  return image.addBands(image.getNumber('system:time_start'))\n",
        "\n",
        "#Map the function over the collection and display the result.\n",
        "imcol = imcol.map(addTime)"
      ],
      "metadata": {
        "id": "FaCJPhBgaiEY"
      },
      "execution_count": 133,
      "outputs": []
    },
    {
      "cell_type": "code",
      "source": [
        "img = imcol.max().clip(roi_poly).select(['B2','B3','B4']).divide(1000) #RGB"
      ],
      "metadata": {
        "id": "fEoDq33sRICP"
      },
      "execution_count": 154,
      "outputs": []
    },
    {
      "cell_type": "code",
      "source": [
        "img"
      ],
      "metadata": {
        "colab": {
          "base_uri": "https://localhost:8080/"
        },
        "id": "XW9jnRRti4S_",
        "outputId": "70a0ffd0-a0df-4462-fcdc-27f7225a26cf"
      },
      "execution_count": 144,
      "outputs": [
        {
          "output_type": "execute_result",
          "data": {
            "text/plain": [
              "<ee.image.Image object at 0x7fde6d683370>"
            ]
          },
          "metadata": {},
          "execution_count": 144
        }
      ]
    },
    {
      "cell_type": "code",
      "source": [
        "# Test image\n",
        "viz = {'bands':['B2','B3','B4'], 'min': 0, 'max': 1, 'dimensions': 512}\n",
        "thumb_url = img.getThumbURL(viz)\n",
        "print(thumb_url)\n",
        "from IPython.display import Image\n",
        "Image(url=thumb_url)"
      ],
      "metadata": {
        "colab": {
          "base_uri": "https://localhost:8080/",
          "height": 551
        },
        "id": "mJenj0HiRU1-",
        "outputId": "333a141d-70ea-4eb3-a7ff-260882085057"
      },
      "execution_count": 177,
      "outputs": [
        {
          "output_type": "stream",
          "name": "stdout",
          "text": [
            "https://earthengine.googleapis.com/v1alpha/projects/earthengine-legacy/thumbnails/5740df384fade6e3505e51e7078ecec9-0f115f1c100686ab2c12f6b6980c93fe:getPixels\n"
          ]
        },
        {
          "output_type": "execute_result",
          "data": {
            "text/html": [
              "<img src=\"https://earthengine.googleapis.com/v1alpha/projects/earthengine-legacy/thumbnails/5740df384fade6e3505e51e7078ecec9-0f115f1c100686ab2c12f6b6980c93fe:getPixels\"/>"
            ],
            "text/plain": [
              "<IPython.core.display.Image object>"
            ]
          },
          "metadata": {},
          "execution_count": 177
        }
      ]
    },
    {
      "cell_type": "code",
      "source": [
        "def mosaicByDate(imcol):\n",
        "  imlist = imcol.toList(imcol.size())\n",
        "  unique_dates = imlist.map(lambda im: ee.Image(im).date().format(\"YYYY-MM-dd\")).distinct()\n",
        "\n",
        "  def match_dates(d):\n",
        "    d = ee.Date(d)\n",
        "    dateString = ee.Date(d).format('yyyy-MM-dd')\n",
        "    im = imcol.filterDate(d, d.advance(1, \"day\")).mosaic()\n",
        "    return im.set(\n",
        "        \"system:time_start\", d.millis(), \n",
        "        \"system:id\", d.format(\"YYYY-MM-dd\")).rename(dateString)\n",
        "\n",
        "  mosaic_imlist = unique_dates.map(match_dates)\n",
        "\n",
        "  return ee.ImageCollection(mosaic_imlist)\n",
        "\n",
        "moscol = mosaicByDate(imcol)"
      ],
      "metadata": {
        "id": "IuaEl3qOZfYt"
      },
      "execution_count": 105,
      "outputs": []
    },
    {
      "cell_type": "code",
      "source": [
        "moscol"
      ],
      "metadata": {
        "colab": {
          "base_uri": "https://localhost:8080/"
        },
        "id": "R2_rGfT1eAgl",
        "outputId": "78270d40-5ff9-48d7-ce62-7378b957c243"
      },
      "execution_count": 110,
      "outputs": [
        {
          "output_type": "execute_result",
          "data": {
            "text/plain": [
              "<ee.imagecollection.ImageCollection object at 0x7fde6ab13520>"
            ]
          },
          "metadata": {},
          "execution_count": 110
        }
      ]
    },
    {
      "cell_type": "code",
      "source": [
        "unique_dates = moscol.map(lambda im: ee.Image(im).date().format(\"YYYY-MM-dd\")) \n",
        "#print(ee.List.getInfo(unique_dates))"
      ],
      "metadata": {
        "id": "Iy_dK-DKUy-j"
      },
      "execution_count": null,
      "outputs": []
    },
    {
      "cell_type": "code",
      "source": [
        "unique_dates"
      ],
      "metadata": {
        "colab": {
          "base_uri": "https://localhost:8080/"
        },
        "id": "jlFRHJRGeFc9",
        "outputId": "8ec1986d-4cfd-4f41-e5b8-1c5ea5d21458"
      },
      "execution_count": 109,
      "outputs": [
        {
          "output_type": "execute_result",
          "data": {
            "text/plain": [
              "<ee.imagecollection.ImageCollection object at 0x7fde6ab442e0>"
            ]
          },
          "metadata": {},
          "execution_count": 109
        }
      ]
    },
    {
      "cell_type": "code",
      "source": [],
      "metadata": {
        "id": "u8NPr_NbGOV0"
      },
      "execution_count": null,
      "outputs": []
    },
    {
      "cell_type": "code",
      "source": [
        "# Save this image collection"
      ],
      "metadata": {
        "id": "ecFekZYREO--"
      },
      "execution_count": null,
      "outputs": []
    },
    {
      "cell_type": "code",
      "source": [
        "# Define another date\n",
        "# This time search the local archives to see if these dates are present"
      ],
      "metadata": {
        "id": "DqivdBXbES_3"
      },
      "execution_count": null,
      "outputs": []
    },
    {
      "cell_type": "code",
      "execution_count": 1,
      "metadata": {
        "id": "eVbjYuwJ6kwD"
      },
      "outputs": [],
      "source": [
        "%%capture\n",
        "#!pip install geemap"
      ]
    },
    {
      "cell_type": "code",
      "source": [],
      "metadata": {
        "id": "s7DVQ_ipm7hH"
      },
      "execution_count": null,
      "outputs": []
    },
    {
      "cell_type": "code",
      "source": [
        "#import numpy as np\n",
        "#\n",
        "#import geemap\n",
        "#import pandas as pd\n",
        "#import plotnine\n",
        "#from scipy import stats\n",
        "#import tensorflow as tf\n",
        "#print(tf.__version__)\n",
        "#print(folium.__version__)"
      ],
      "metadata": {
        "id": "Cf-fVCsoxqni"
      },
      "execution_count": 3,
      "outputs": []
    },
    {
      "cell_type": "code",
      "execution_count": null,
      "metadata": {
        "id": "x91dsWqJ6zfO"
      },
      "outputs": [],
      "source": [
        "import geemap"
      ]
    },
    {
      "cell_type": "code",
      "execution_count": null,
      "metadata": {
        "id": "TcIZGFbd7Odj"
      },
      "outputs": [],
      "source": [
        "#imgs = imgs.map(addNDVI)\n",
        "imgs = addNDVI(imgs)"
      ]
    },
    {
      "cell_type": "code",
      "execution_count": null,
      "metadata": {
        "id": "bCDQoLdm7qrD"
      },
      "outputs": [],
      "source": [
        "rgb = ['B4','B3','B2','B8']\n",
        "rgbViz = {\"min\":0.0, \"max\":0.3,\"bands\":rgb}\n",
        "ndviViz = {\"min\":0.0, \"max\":1.0,\"bands\":['NDVI']}"
      ]
    },
    {
      "cell_type": "code",
      "execution_count": null,
      "metadata": {
        "colab": {
          "base_uri": "https://localhost:8080/",
          "height": 421,
          "referenced_widgets": [
            "0dc19b01a26749fba0603d2783fc03ed",
            "bd6dd9339bb541efa8ab887f2d850748",
            "1c08610c89ee4bae832f3d2b3e7e4562",
            "77201282e7414f0db63d28d7a17f63e3",
            "079e321d2dbf4c1ebf7af10ad47104bd",
            "0c0794ecadc549548a591ca790bd3d22",
            "4739801813c9450e8b308beb159be0fc",
            "898d9e836df341168930e4368154e21d",
            "48832df5040c44109500c8f22e4b11e6",
            "bec7105ecd144d1985bdf596355c273a",
            "0f3746c372b146d38e1e6e296f12fae4",
            "ed12ed0598fc4089b49ec2ca0eee06c1",
            "cd0c70a7ffef456090a26ace546a4bc5",
            "5d831bc543194652b7b1057882b8a1db",
            "907b9dc6ca5a4ab6882d6199161146bb",
            "f9c13f897c234789a23d5d03027232c2",
            "59b84236f0cb4382b4d1719c48d540d0",
            "0e82626d65b74be79dfc23cf0c8fe9a7",
            "cd1cce40309441f48e8549c9bcc21ca4",
            "583f9aff99724a89b05d2e17d7dc314c",
            "c756dfca119e470e9f2197f4a2cd3133",
            "49b08a8161db4a2e9c236abda04aad27",
            "78933de39c0544acb240aab5255ed45b",
            "2bcf281de83142b19777d0edfc1f7c5b",
            "4b162b98dadb4a58a1167a5066933511",
            "a6ff60bef21747e19469500f00dd24f5",
            "3f3c2322aed644e49eb6e1312823baa1"
          ]
        },
        "id": "o2C8BGRt4uIT",
        "outputId": "1e2cbbac-6a07-492c-9ab9-96faee9ceb4b"
      },
      "outputs": [
        {
          "data": {
            "application/vnd.jupyter.widget-view+json": {
              "model_id": "0dc19b01a26749fba0603d2783fc03ed",
              "version_major": 2,
              "version_minor": 0
            },
            "text/plain": [
              "Map(center=[-38.209999999999994, 144.4175], controls=(WidgetControl(options=['position', 'transparent_bg'], wi…"
            ]
          },
          "metadata": {
            "application/vnd.jupyter.widget-view+json": {
              "colab": {
                "custom_widget_manager": {
                  "url": "https://ssl.gstatic.com/colaboratory-static/widgets/colab-cdn-widget-manager/b3e629b1971e1542/manager.min.js"
                }
              }
            }
          },
          "output_type": "display_data"
        }
      ],
      "source": [
        "# initialize our map\n",
        "map1 = geemap.Map(height=400,width=600)\n",
        "map1.setCenter((xmin+xmax)/2, (ymin+ymax)/2,  14)\n",
        "map1.addLayer(imgs.clip(roi_poly), ndviViz, \"NDVI\")\n",
        "map1.addLayerControl()\n",
        "map1"
      ]
    },
    {
      "cell_type": "code",
      "execution_count": null,
      "metadata": {
        "id": "H9jIJwLx8J_6"
      },
      "outputs": [],
      "source": [
        "imgs = imgs.select(['B4','B3','B2','B8'])"
      ]
    },
    {
      "cell_type": "code",
      "execution_count": null,
      "metadata": {
        "id": "z5PNYJ323bCU"
      },
      "outputs": [],
      "source": [
        "# how to download https://developers.google.com/earth-engine/tutorials/community/intro-to-python-api#export_a_geotiff_file\n",
        "task = ee.batch.Export.image.toDrive(**{\n",
        "  'image': imgs,\n",
        "  'description': 'reedy',\n",
        "  'folder':'CNN',\n",
        "  'region': roi_poly, \n",
        "  'crs': 'EPSG:7854', \n",
        "  'maxPixels': 1e13})\n",
        "task.start()"
      ]
    }
  ],
  "metadata": {
    "colab": {
      "provenance": [],
      "include_colab_link": true
    },
    "kernelspec": {
      "display_name": "Python 3",
      "name": "python3"
    },
    "language_info": {
      "name": "python"
    },
    "widgets": {
      "application/vnd.jupyter.widget-state+json": {
        "079e321d2dbf4c1ebf7af10ad47104bd": {
          "model_module": "jupyter-leaflet",
          "model_module_version": "^0.17",
          "model_name": "LeafletFullScreenControlModel",
          "state": {
            "_model_module": "jupyter-leaflet",
            "_model_module_version": "^0.17",
            "_model_name": "LeafletFullScreenControlModel",
            "_view_count": null,
            "_view_module": "jupyter-leaflet",
            "_view_module_version": "^0.17",
            "_view_name": "LeafletFullScreenControlView",
            "options": [
              "position"
            ],
            "position": "topleft"
          }
        },
        "0c0794ecadc549548a591ca790bd3d22": {
          "model_module": "jupyter-leaflet",
          "model_module_version": "^0.17",
          "model_name": "LeafletMeasureControlModel",
          "state": {
            "_custom_units": {},
            "_model_module": "jupyter-leaflet",
            "_model_module_version": "^0.17",
            "_model_name": "LeafletMeasureControlModel",
            "_view_count": null,
            "_view_module": "jupyter-leaflet",
            "_view_module_version": "^0.17",
            "_view_name": "LeafletMeasureControlView",
            "active_color": "orange",
            "capture_z_index": 10000,
            "completed_color": "#C8F2BE",
            "options": [
              "active_color",
              "capture_z_index",
              "completed_color",
              "popup_options",
              "position",
              "primary_area_unit",
              "primary_length_unit",
              "secondary_area_unit",
              "secondary_length_unit"
            ],
            "popup_options": {
              "autoPanPadding": [
                10,
                10
              ],
              "className": "leaflet-measure-resultpopup"
            },
            "position": "bottomleft",
            "primary_area_unit": "acres",
            "primary_length_unit": "kilometers",
            "secondary_area_unit": null,
            "secondary_length_unit": null
          }
        },
        "0dc19b01a26749fba0603d2783fc03ed": {
          "model_module": "jupyter-leaflet",
          "model_module_version": "^0.17",
          "model_name": "LeafletMapModel",
          "state": {
            "_dom_classes": [],
            "_model_module": "jupyter-leaflet",
            "_model_module_version": "^0.17",
            "_model_name": "LeafletMapModel",
            "_view_count": null,
            "_view_module": "jupyter-leaflet",
            "_view_module_version": "^0.17",
            "_view_name": "LeafletMapView",
            "bottom": 10318301,
            "bounce_at_zoom_limits": true,
            "box_zoom": true,
            "center": [
              -38.20832589042381,
              144.4338655471802
            ],
            "close_popup_on_click": true,
            "controls": [
              "IPY_MODEL_bd6dd9339bb541efa8ab887f2d850748",
              "IPY_MODEL_1c08610c89ee4bae832f3d2b3e7e4562",
              "IPY_MODEL_77201282e7414f0db63d28d7a17f63e3",
              "IPY_MODEL_079e321d2dbf4c1ebf7af10ad47104bd",
              "IPY_MODEL_0c0794ecadc549548a591ca790bd3d22",
              "IPY_MODEL_4739801813c9450e8b308beb159be0fc",
              "IPY_MODEL_898d9e836df341168930e4368154e21d",
              "IPY_MODEL_48832df5040c44109500c8f22e4b11e6",
              "IPY_MODEL_bec7105ecd144d1985bdf596355c273a"
            ],
            "crs": {
              "custom": false,
              "name": "EPSG3857"
            },
            "default_style": "IPY_MODEL_0f3746c372b146d38e1e6e296f12fae4",
            "double_click_zoom": true,
            "dragging": true,
            "dragging_style": "IPY_MODEL_ed12ed0598fc4089b49ec2ca0eee06c1",
            "east": 144.44030284881595,
            "fullscreen": false,
            "inertia": true,
            "inertia_deceleration": 3000,
            "inertia_max_speed": 1500,
            "interpolation": "bilinear",
            "keyboard": true,
            "keyboard_pan_offset": 80,
            "keyboard_zoom_offset": 1,
            "layers": [
              "IPY_MODEL_cd0c70a7ffef456090a26ace546a4bc5",
              "IPY_MODEL_5d831bc543194652b7b1057882b8a1db",
              "IPY_MODEL_907b9dc6ca5a4ab6882d6199161146bb"
            ],
            "layout": "IPY_MODEL_f9c13f897c234789a23d5d03027232c2",
            "left": 15119414,
            "max_zoom": 24,
            "min_zoom": null,
            "modisdate": "2023-02-20",
            "north": -38.20495366609053,
            "options": [
              "bounce_at_zoom_limits",
              "box_zoom",
              "center",
              "close_popup_on_click",
              "double_click_zoom",
              "dragging",
              "fullscreen",
              "inertia",
              "inertia_deceleration",
              "inertia_max_speed",
              "interpolation",
              "keyboard",
              "keyboard_pan_offset",
              "keyboard_zoom_offset",
              "max_zoom",
              "min_zoom",
              "prefer_canvas",
              "scroll_wheel_zoom",
              "tap",
              "tap_tolerance",
              "touch_zoom",
              "world_copy_jump",
              "zoom",
              "zoom_animation_threshold",
              "zoom_delta",
              "zoom_snap"
            ],
            "panes": {},
            "prefer_canvas": false,
            "right": 15120014,
            "scroll_wheel_zoom": true,
            "south": -38.21169795853158,
            "style": "IPY_MODEL_0f3746c372b146d38e1e6e296f12fae4",
            "tap": true,
            "tap_tolerance": 15,
            "top": 10317901,
            "touch_zoom": true,
            "west": 144.42742824554446,
            "window_url": "https://215ma0dirrj-496ff2e9c6d22116-0-colab.googleusercontent.com/outputframe.html?vrz=colab-20230216-060056-RC01_510471064",
            "world_copy_jump": false,
            "zoom": 16,
            "zoom_animation_threshold": 4,
            "zoom_delta": 1,
            "zoom_snap": 1
          }
        },
        "0e82626d65b74be79dfc23cf0c8fe9a7": {
          "model_module": "@jupyter-widgets/controls",
          "model_module_version": "1.5.0",
          "model_name": "HBoxModel",
          "state": {
            "_dom_classes": [],
            "_model_module": "@jupyter-widgets/controls",
            "_model_module_version": "1.5.0",
            "_model_name": "HBoxModel",
            "_view_count": null,
            "_view_module": "@jupyter-widgets/controls",
            "_view_module_version": "1.5.0",
            "_view_name": "HBoxView",
            "box_style": "",
            "children": [
              "IPY_MODEL_583f9aff99724a89b05d2e17d7dc314c"
            ],
            "layout": "IPY_MODEL_c756dfca119e470e9f2197f4a2cd3133"
          }
        },
        "0f3746c372b146d38e1e6e296f12fae4": {
          "model_module": "jupyter-leaflet",
          "model_module_version": "^0.17",
          "model_name": "LeafletMapStyleModel",
          "state": {
            "_model_module": "jupyter-leaflet",
            "_model_module_version": "^0.17",
            "_model_name": "LeafletMapStyleModel",
            "_view_count": null,
            "_view_module": "@jupyter-widgets/base",
            "_view_module_version": "1.2.0",
            "_view_name": "StyleView",
            "cursor": "grab"
          }
        },
        "1c08610c89ee4bae832f3d2b3e7e4562": {
          "model_module": "jupyter-leaflet",
          "model_module_version": "^0.17",
          "model_name": "LeafletZoomControlModel",
          "state": {
            "_model_module": "jupyter-leaflet",
            "_model_module_version": "^0.17",
            "_model_name": "LeafletZoomControlModel",
            "_view_count": null,
            "_view_module": "jupyter-leaflet",
            "_view_module_version": "^0.17",
            "_view_name": "LeafletZoomControlView",
            "options": [
              "position",
              "zoom_in_text",
              "zoom_in_title",
              "zoom_out_text",
              "zoom_out_title"
            ],
            "position": "topleft",
            "zoom_in_text": "+",
            "zoom_in_title": "Zoom in",
            "zoom_out_text": "-",
            "zoom_out_title": "Zoom out"
          }
        },
        "2bcf281de83142b19777d0edfc1f7c5b": {
          "model_module": "@jupyter-widgets/base",
          "model_module_version": "1.2.0",
          "model_name": "LayoutModel",
          "state": {
            "_model_module": "@jupyter-widgets/base",
            "_model_module_version": "1.2.0",
            "_model_name": "LayoutModel",
            "_view_count": null,
            "_view_module": "@jupyter-widgets/base",
            "_view_module_version": "1.2.0",
            "_view_name": "LayoutView",
            "align_content": null,
            "align_items": null,
            "align_self": null,
            "border": null,
            "bottom": null,
            "display": null,
            "flex": null,
            "flex_flow": null,
            "grid_area": null,
            "grid_auto_columns": null,
            "grid_auto_flow": null,
            "grid_auto_rows": null,
            "grid_column": null,
            "grid_gap": null,
            "grid_row": null,
            "grid_template_areas": null,
            "grid_template_columns": null,
            "grid_template_rows": null,
            "height": "28px",
            "justify_content": null,
            "justify_items": null,
            "left": null,
            "margin": null,
            "max_height": null,
            "max_width": null,
            "min_height": null,
            "min_width": null,
            "object_fit": null,
            "object_position": null,
            "order": null,
            "overflow": null,
            "overflow_x": null,
            "overflow_y": null,
            "padding": "0px 0px 0px 4px",
            "right": null,
            "top": null,
            "visibility": null,
            "width": "28px"
          }
        },
        "3f3c2322aed644e49eb6e1312823baa1": {
          "model_module": "@jupyter-widgets/controls",
          "model_module_version": "1.5.0",
          "model_name": "DescriptionStyleModel",
          "state": {
            "_model_module": "@jupyter-widgets/controls",
            "_model_module_version": "1.5.0",
            "_model_name": "DescriptionStyleModel",
            "_view_count": null,
            "_view_module": "@jupyter-widgets/base",
            "_view_module_version": "1.2.0",
            "_view_name": "StyleView",
            "description_width": ""
          }
        },
        "4739801813c9450e8b308beb159be0fc": {
          "model_module": "jupyter-leaflet",
          "model_module_version": "^0.17",
          "model_name": "LeafletAttributionControlModel",
          "state": {
            "_model_module": "jupyter-leaflet",
            "_model_module_version": "^0.17",
            "_model_name": "LeafletAttributionControlModel",
            "_view_count": null,
            "_view_module": "jupyter-leaflet",
            "_view_module_version": "^0.17",
            "_view_name": "LeafletAttributionControlView",
            "options": [
              "position",
              "prefix"
            ],
            "position": "bottomright",
            "prefix": "ipyleaflet"
          }
        },
        "48832df5040c44109500c8f22e4b11e6": {
          "model_module": "jupyter-leaflet",
          "model_module_version": "^0.17",
          "model_name": "LeafletWidgetControlModel",
          "state": {
            "_model_module": "jupyter-leaflet",
            "_model_module_version": "^0.17",
            "_model_name": "LeafletWidgetControlModel",
            "_view_count": null,
            "_view_module": "jupyter-leaflet",
            "_view_module_version": "^0.17",
            "_view_name": "LeafletWidgetControlView",
            "max_height": null,
            "max_width": null,
            "min_height": null,
            "min_width": null,
            "options": [
              "position",
              "transparent_bg"
            ],
            "position": "topright",
            "transparent_bg": false,
            "widget": "IPY_MODEL_cd1cce40309441f48e8549c9bcc21ca4"
          }
        },
        "49b08a8161db4a2e9c236abda04aad27": {
          "model_module": "@jupyter-widgets/controls",
          "model_module_version": "1.5.0",
          "model_name": "ToggleButtonModel",
          "state": {
            "_dom_classes": [],
            "_model_module": "@jupyter-widgets/controls",
            "_model_module_version": "1.5.0",
            "_model_name": "ToggleButtonModel",
            "_view_count": null,
            "_view_module": "@jupyter-widgets/controls",
            "_view_module_version": "1.5.0",
            "_view_name": "ToggleButtonView",
            "button_style": "",
            "description": "",
            "description_tooltip": null,
            "disabled": false,
            "icon": "wrench",
            "layout": "IPY_MODEL_a6ff60bef21747e19469500f00dd24f5",
            "style": "IPY_MODEL_3f3c2322aed644e49eb6e1312823baa1",
            "tooltip": "Toolbar",
            "value": false
          }
        },
        "4b162b98dadb4a58a1167a5066933511": {
          "model_module": "@jupyter-widgets/controls",
          "model_module_version": "1.5.0",
          "model_name": "DescriptionStyleModel",
          "state": {
            "_model_module": "@jupyter-widgets/controls",
            "_model_module_version": "1.5.0",
            "_model_name": "DescriptionStyleModel",
            "_view_count": null,
            "_view_module": "@jupyter-widgets/base",
            "_view_module_version": "1.2.0",
            "_view_name": "StyleView",
            "description_width": ""
          }
        },
        "583f9aff99724a89b05d2e17d7dc314c": {
          "model_module": "@jupyter-widgets/controls",
          "model_module_version": "1.5.0",
          "model_name": "ToggleButtonModel",
          "state": {
            "_dom_classes": [],
            "_model_module": "@jupyter-widgets/controls",
            "_model_module_version": "1.5.0",
            "_model_name": "ToggleButtonModel",
            "_view_count": null,
            "_view_module": "@jupyter-widgets/controls",
            "_view_module_version": "1.5.0",
            "_view_name": "ToggleButtonView",
            "button_style": "",
            "description": "",
            "description_tooltip": null,
            "disabled": false,
            "icon": "globe",
            "layout": "IPY_MODEL_2bcf281de83142b19777d0edfc1f7c5b",
            "style": "IPY_MODEL_4b162b98dadb4a58a1167a5066933511",
            "tooltip": "Search location/data",
            "value": false
          }
        },
        "59b84236f0cb4382b4d1719c48d540d0": {
          "model_module": "jupyter-leaflet",
          "model_module_version": "^0.17",
          "model_name": "LeafletMapStyleModel",
          "state": {
            "_model_module": "jupyter-leaflet",
            "_model_module_version": "^0.17",
            "_model_name": "LeafletMapStyleModel",
            "_view_count": null,
            "_view_module": "@jupyter-widgets/base",
            "_view_module_version": "1.2.0",
            "_view_name": "StyleView",
            "cursor": "grab"
          }
        },
        "5d831bc543194652b7b1057882b8a1db": {
          "model_module": "jupyter-leaflet",
          "model_module_version": "^0.17",
          "model_name": "LeafletTileLayerModel",
          "state": {
            "_model_module": "jupyter-leaflet",
            "_model_module_version": "^0.17",
            "_model_name": "LeafletTileLayerModel",
            "_view_count": null,
            "_view_module": "jupyter-leaflet",
            "_view_module_version": "^0.17",
            "_view_name": "LeafletTileLayerView",
            "attribution": "Google",
            "base": false,
            "bottom": true,
            "bounds": null,
            "detect_retina": false,
            "loading": false,
            "max_native_zoom": null,
            "max_zoom": 22,
            "min_native_zoom": null,
            "min_zoom": 0,
            "name": "Google Maps",
            "no_wrap": false,
            "opacity": 1,
            "options": [
              "attribution",
              "bounds",
              "detect_retina",
              "max_native_zoom",
              "max_zoom",
              "min_native_zoom",
              "min_zoom",
              "no_wrap",
              "tile_size",
              "tms",
              "zoom_offset"
            ],
            "pane": "",
            "popup": null,
            "popup_max_height": null,
            "popup_max_width": 300,
            "popup_min_width": 50,
            "show_loading": false,
            "subitems": [],
            "tile_size": 256,
            "tms": false,
            "url": "https://mt1.google.com/vt/lyrs=m&x={x}&y={y}&z={z}",
            "visible": true,
            "zoom_offset": 0
          }
        },
        "77201282e7414f0db63d28d7a17f63e3": {
          "model_module": "jupyter-leaflet",
          "model_module_version": "^0.17",
          "model_name": "LeafletScaleControlModel",
          "state": {
            "_model_module": "jupyter-leaflet",
            "_model_module_version": "^0.17",
            "_model_name": "LeafletScaleControlModel",
            "_view_count": null,
            "_view_module": "jupyter-leaflet",
            "_view_module_version": "^0.17",
            "_view_name": "LeafletScaleControlView",
            "imperial": true,
            "max_width": 100,
            "metric": true,
            "options": [
              "imperial",
              "max_width",
              "metric",
              "position",
              "update_when_idle"
            ],
            "position": "bottomleft",
            "update_when_idle": false
          }
        },
        "78933de39c0544acb240aab5255ed45b": {
          "model_module": "@jupyter-widgets/base",
          "model_module_version": "1.2.0",
          "model_name": "LayoutModel",
          "state": {
            "_model_module": "@jupyter-widgets/base",
            "_model_module_version": "1.2.0",
            "_model_name": "LayoutModel",
            "_view_count": null,
            "_view_module": "@jupyter-widgets/base",
            "_view_module_version": "1.2.0",
            "_view_name": "LayoutView",
            "align_content": null,
            "align_items": null,
            "align_self": null,
            "border": null,
            "bottom": null,
            "display": null,
            "flex": null,
            "flex_flow": null,
            "grid_area": null,
            "grid_auto_columns": null,
            "grid_auto_flow": null,
            "grid_auto_rows": null,
            "grid_column": null,
            "grid_gap": null,
            "grid_row": null,
            "grid_template_areas": null,
            "grid_template_columns": null,
            "grid_template_rows": null,
            "height": null,
            "justify_content": null,
            "justify_items": null,
            "left": null,
            "margin": null,
            "max_height": null,
            "max_width": null,
            "min_height": null,
            "min_width": null,
            "object_fit": null,
            "object_position": null,
            "order": null,
            "overflow": null,
            "overflow_x": null,
            "overflow_y": null,
            "padding": null,
            "right": null,
            "top": null,
            "visibility": null,
            "width": null
          }
        },
        "898d9e836df341168930e4368154e21d": {
          "model_module": "jupyter-leaflet",
          "model_module_version": "^0.17",
          "model_name": "LeafletDrawControlModel",
          "state": {
            "_model_module": "jupyter-leaflet",
            "_model_module_version": "^0.17",
            "_model_name": "LeafletDrawControlModel",
            "_view_count": null,
            "_view_module": "jupyter-leaflet",
            "_view_module_version": "^0.17",
            "_view_name": "LeafletDrawControlView",
            "circle": {
              "shapeOptions": {
                "color": "#3388ff"
              }
            },
            "circlemarker": {},
            "data": [],
            "edit": true,
            "marker": {
              "shapeOptions": {
                "color": "#3388ff"
              }
            },
            "options": [
              "position"
            ],
            "polygon": {
              "shapeOptions": {}
            },
            "polyline": {
              "shapeOptions": {}
            },
            "position": "topleft",
            "rectangle": {
              "shapeOptions": {
                "color": "#3388ff"
              }
            },
            "remove": true
          }
        },
        "907b9dc6ca5a4ab6882d6199161146bb": {
          "model_module": "jupyter-leaflet",
          "model_module_version": "^0.17",
          "model_name": "LeafletTileLayerModel",
          "state": {
            "_model_module": "jupyter-leaflet",
            "_model_module_version": "^0.17",
            "_model_name": "LeafletTileLayerModel",
            "_view_count": null,
            "_view_module": "jupyter-leaflet",
            "_view_module_version": "^0.17",
            "_view_name": "LeafletTileLayerView",
            "attribution": "Google Earth Engine",
            "base": false,
            "bottom": true,
            "bounds": null,
            "detect_retina": false,
            "loading": false,
            "max_native_zoom": null,
            "max_zoom": 24,
            "min_native_zoom": null,
            "min_zoom": 0,
            "name": "NDVI",
            "no_wrap": false,
            "opacity": 1,
            "options": [
              "attribution",
              "bounds",
              "detect_retina",
              "max_native_zoom",
              "max_zoom",
              "min_native_zoom",
              "min_zoom",
              "no_wrap",
              "tile_size",
              "tms",
              "zoom_offset"
            ],
            "pane": "",
            "popup": null,
            "popup_max_height": null,
            "popup_max_width": 300,
            "popup_min_width": 50,
            "show_loading": false,
            "subitems": [],
            "tile_size": 256,
            "tms": false,
            "url": "https://earthengine.googleapis.com/v1alpha/projects/earthengine-legacy/maps/d83dde8104ce97d88c675478021defb4-d82d8f9753bcbe321da909898a74207b/tiles/{z}/{x}/{y}",
            "visible": true,
            "zoom_offset": 0
          }
        },
        "a6ff60bef21747e19469500f00dd24f5": {
          "model_module": "@jupyter-widgets/base",
          "model_module_version": "1.2.0",
          "model_name": "LayoutModel",
          "state": {
            "_model_module": "@jupyter-widgets/base",
            "_model_module_version": "1.2.0",
            "_model_name": "LayoutModel",
            "_view_count": null,
            "_view_module": "@jupyter-widgets/base",
            "_view_module_version": "1.2.0",
            "_view_name": "LayoutView",
            "align_content": null,
            "align_items": null,
            "align_self": null,
            "border": null,
            "bottom": null,
            "display": null,
            "flex": null,
            "flex_flow": null,
            "grid_area": null,
            "grid_auto_columns": null,
            "grid_auto_flow": null,
            "grid_auto_rows": null,
            "grid_column": null,
            "grid_gap": null,
            "grid_row": null,
            "grid_template_areas": null,
            "grid_template_columns": null,
            "grid_template_rows": null,
            "height": "28px",
            "justify_content": null,
            "justify_items": null,
            "left": null,
            "margin": null,
            "max_height": null,
            "max_width": null,
            "min_height": null,
            "min_width": null,
            "object_fit": null,
            "object_position": null,
            "order": null,
            "overflow": null,
            "overflow_x": null,
            "overflow_y": null,
            "padding": "0px 0px 0px 4px",
            "right": null,
            "top": null,
            "visibility": null,
            "width": "28px"
          }
        },
        "bd6dd9339bb541efa8ab887f2d850748": {
          "model_module": "jupyter-leaflet",
          "model_module_version": "^0.17",
          "model_name": "LeafletWidgetControlModel",
          "state": {
            "_model_module": "jupyter-leaflet",
            "_model_module_version": "^0.17",
            "_model_name": "LeafletWidgetControlModel",
            "_view_count": null,
            "_view_module": "jupyter-leaflet",
            "_view_module_version": "^0.17",
            "_view_name": "LeafletWidgetControlView",
            "max_height": null,
            "max_width": null,
            "min_height": null,
            "min_width": null,
            "options": [
              "position",
              "transparent_bg"
            ],
            "position": "topleft",
            "transparent_bg": false,
            "widget": "IPY_MODEL_0e82626d65b74be79dfc23cf0c8fe9a7"
          }
        },
        "bec7105ecd144d1985bdf596355c273a": {
          "model_module": "jupyter-leaflet",
          "model_module_version": "^0.17",
          "model_name": "LeafletLayersControlModel",
          "state": {
            "_model_module": "jupyter-leaflet",
            "_model_module_version": "^0.17",
            "_model_name": "LeafletLayersControlModel",
            "_view_count": null,
            "_view_module": "jupyter-leaflet",
            "_view_module_version": "^0.17",
            "_view_name": "LeafletLayersControlView",
            "options": [
              "position"
            ],
            "position": "topright"
          }
        },
        "c756dfca119e470e9f2197f4a2cd3133": {
          "model_module": "@jupyter-widgets/base",
          "model_module_version": "1.2.0",
          "model_name": "LayoutModel",
          "state": {
            "_model_module": "@jupyter-widgets/base",
            "_model_module_version": "1.2.0",
            "_model_name": "LayoutModel",
            "_view_count": null,
            "_view_module": "@jupyter-widgets/base",
            "_view_module_version": "1.2.0",
            "_view_name": "LayoutView",
            "align_content": null,
            "align_items": null,
            "align_self": null,
            "border": null,
            "bottom": null,
            "display": null,
            "flex": null,
            "flex_flow": null,
            "grid_area": null,
            "grid_auto_columns": null,
            "grid_auto_flow": null,
            "grid_auto_rows": null,
            "grid_column": null,
            "grid_gap": null,
            "grid_row": null,
            "grid_template_areas": null,
            "grid_template_columns": null,
            "grid_template_rows": null,
            "height": null,
            "justify_content": null,
            "justify_items": null,
            "left": null,
            "margin": null,
            "max_height": null,
            "max_width": null,
            "min_height": null,
            "min_width": null,
            "object_fit": null,
            "object_position": null,
            "order": null,
            "overflow": null,
            "overflow_x": null,
            "overflow_y": null,
            "padding": null,
            "right": null,
            "top": null,
            "visibility": null,
            "width": null
          }
        },
        "cd0c70a7ffef456090a26ace546a4bc5": {
          "model_module": "jupyter-leaflet",
          "model_module_version": "^0.17",
          "model_name": "LeafletTileLayerModel",
          "state": {
            "_model_module": "jupyter-leaflet",
            "_model_module_version": "^0.17",
            "_model_name": "LeafletTileLayerModel",
            "_view_count": null,
            "_view_module": "jupyter-leaflet",
            "_view_module_version": "^0.17",
            "_view_name": "LeafletTileLayerView",
            "attribution": "&copy; <a href=\"https://www.openstreetmap.org/copyright\">OpenStreetMap</a> contributors",
            "base": true,
            "bottom": true,
            "bounds": null,
            "detect_retina": false,
            "loading": false,
            "max_native_zoom": null,
            "max_zoom": 19,
            "min_native_zoom": null,
            "min_zoom": 1,
            "name": "OpenStreetMap.Mapnik",
            "no_wrap": false,
            "opacity": 1,
            "options": [
              "attribution",
              "bounds",
              "detect_retina",
              "max_native_zoom",
              "max_zoom",
              "min_native_zoom",
              "min_zoom",
              "no_wrap",
              "tile_size",
              "tms",
              "zoom_offset"
            ],
            "pane": "",
            "popup": null,
            "popup_max_height": null,
            "popup_max_width": 300,
            "popup_min_width": 50,
            "show_loading": false,
            "subitems": [],
            "tile_size": 256,
            "tms": false,
            "url": "https://tile.openstreetmap.org/{z}/{x}/{y}.png",
            "visible": true,
            "zoom_offset": 0
          }
        },
        "cd1cce40309441f48e8549c9bcc21ca4": {
          "model_module": "@jupyter-widgets/controls",
          "model_module_version": "1.5.0",
          "model_name": "VBoxModel",
          "state": {
            "_dom_classes": [],
            "_model_module": "@jupyter-widgets/controls",
            "_model_module_version": "1.5.0",
            "_model_name": "VBoxModel",
            "_view_count": null,
            "_view_module": "@jupyter-widgets/controls",
            "_view_module_version": "1.5.0",
            "_view_name": "VBoxView",
            "box_style": "",
            "children": [
              "IPY_MODEL_49b08a8161db4a2e9c236abda04aad27"
            ],
            "layout": "IPY_MODEL_78933de39c0544acb240aab5255ed45b"
          }
        },
        "ed12ed0598fc4089b49ec2ca0eee06c1": {
          "model_module": "jupyter-leaflet",
          "model_module_version": "^0.17",
          "model_name": "LeafletMapStyleModel",
          "state": {
            "_model_module": "jupyter-leaflet",
            "_model_module_version": "^0.17",
            "_model_name": "LeafletMapStyleModel",
            "_view_count": null,
            "_view_module": "@jupyter-widgets/base",
            "_view_module_version": "1.2.0",
            "_view_name": "StyleView",
            "cursor": "move"
          }
        },
        "f9c13f897c234789a23d5d03027232c2": {
          "model_module": "@jupyter-widgets/base",
          "model_module_version": "1.2.0",
          "model_name": "LayoutModel",
          "state": {
            "_model_module": "@jupyter-widgets/base",
            "_model_module_version": "1.2.0",
            "_model_name": "LayoutModel",
            "_view_count": null,
            "_view_module": "@jupyter-widgets/base",
            "_view_module_version": "1.2.0",
            "_view_name": "LayoutView",
            "align_content": null,
            "align_items": null,
            "align_self": null,
            "border": null,
            "bottom": null,
            "display": null,
            "flex": null,
            "flex_flow": null,
            "grid_area": null,
            "grid_auto_columns": null,
            "grid_auto_flow": null,
            "grid_auto_rows": null,
            "grid_column": null,
            "grid_gap": null,
            "grid_row": null,
            "grid_template_areas": null,
            "grid_template_columns": null,
            "grid_template_rows": null,
            "height": "400px",
            "justify_content": null,
            "justify_items": null,
            "left": null,
            "margin": null,
            "max_height": null,
            "max_width": null,
            "min_height": null,
            "min_width": null,
            "object_fit": null,
            "object_position": null,
            "order": null,
            "overflow": null,
            "overflow_x": null,
            "overflow_y": null,
            "padding": null,
            "right": null,
            "top": null,
            "visibility": null,
            "width": "600px"
          }
        }
      }
    }
  },
  "nbformat": 4,
  "nbformat_minor": 0
}